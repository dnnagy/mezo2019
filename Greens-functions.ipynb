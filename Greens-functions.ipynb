{
 "cells": [
  {
   "cell_type": "markdown",
   "metadata": {},
   "source": [
    "# Mathematical definitions of Green's functions"
   ]
  },
  {
   "cell_type": "markdown",
   "metadata": {},
   "source": [
    "Let $L(\\mathbf r)$ be a linear, time-independent, hermitian differential operator.\n",
    "The hermitian property says\n",
    "- $$\n",
    "\\begin{equation*}\n",
    "\\int_{\\Omega}\\phi^{*}_n(\\mathbf r)L(\\mathbf r)\\psi_m(\\mathbf r)d \\mathbf r = \n",
    "\\left[\\int_{\\Omega} \\psi^{*}(\\mathbf r)L(\\mathbf r)\\phi(\\mathbf r)\\right]^{*}\n",
    "\\end{equation*}\n",
    "$$\n",
    "- $L(\\mathbf r)\\phi_n(\\mathbf r)=\\lambda_n\\phi(\\mathbf r) \\equiv L | \\phi_n \\rangle = \\lambda_n | \\phi_n \\rangle$ \n",
    "- $\\langle \\phi_n | \\phi_m \\rangle = \\delta_{nm}$\n",
    "- $\\sum\\limits_n \\langle \\phi_n | \\phi_n \\rangle = 1 \\equiv \\sum\\limits_n \\phi^{*}_n(\\mathbf r)\\phi_n(\\mathbf r') = \\delta(\\mathbf r - \\mathbf r')$\n",
    "- $\\phi_n(\\mathbf r) = \\langle \\mathbf r | \\phi_n \\rangle$\n",
    "- $\\phi^{*}_n(\\mathbf r) = \\langle \\phi_n | \\mathbf r \\rangle$\n",
    "- $\\langle \\mathbf r | \\mathbf r' \\rangle = \\delta(\\mathbf r- \\mathbf r')$\n",
    "- $\\int d\\mathbf r | \\mathbf r \\rangle\\langle \\mathbf r' | = 1 $\n",
    "- $\\delta(\\mathbf r - \\mathbf r')L(\\mathbf r) = \\langle \\mathbf r | L |\\mathbf r' \\rangle$"
   ]
  },
  {
   "cell_type": "markdown",
   "metadata": {},
   "source": [
    "## The definition of Green's function\n",
    "$$\\left[z-L(\\mathbf r)\\right] G(\\mathbf r, \\mathbf r'; z) = \\delta(\\mathbf r - \\mathbf r')$$\n",
    "- $G(\\mathbf r, \\mathbf r'; z) = \\langle \\mathbf r | G(z) | \\mathbf r' \\rangle$\n",
    "- $(z-L)G(z)=1 \\implies \\langle \\mathbf r | (z-L)G(z) | \\mathbf r' \\rangle = \\langle \\mathbf r  |1| \\mathbf r'\\rangle = \\delta(\\mathbf r - \\mathbf r')$"
   ]
  },
  {
   "cell_type": "markdown",
   "metadata": {},
   "source": [
    "$$\n",
    "\\begin{align*}\n",
    "(z-L)G(z)=1 \\implies G(z) = \\frac{1}{z-L} = \\sum\\limits_n \\frac{|\\phi_n\\rangle\\langle\\phi_n|}{z-\\lambda_n}\n",
    "\\end{align*}\n",
    "$$"
   ]
  },
  {
   "cell_type": "markdown",
   "metadata": {},
   "source": [
    "- If the spectrum of $L$ is continuous, then\n",
    "$$G(z) = \\sum\\limits_n \\frac{|\\phi_n\\rangle\\langle\\phi_n|}{z-\\lambda_n} + \\int dc \\frac{|\\phi_c\\rangle\\langle\\phi_c|}{z-\\lambda_c}$$\n",
    "$$\n",
    "G(\\mathbf r, \\mathbf r'; z) = \\langle \\mathbf r | G(z) |\\mathbf r' \\rangle= \\sum\\limits_n \\frac{\\phi^{*}_n(\\mathbf r)\\phi_n(\\mathbf r')}\n",
    "+ \\int dc \\frac{\\phi^{*}_c(\\mathbf r)\\phi_c(\\mathbf r')}{z-\\lambda_c}\n",
    "$$\n",
    "- Since $L$ is hermitian, $\\lambda_n$ are real.\n",
    "- So, if $z\\neq\\lambda_n$, then $G(z)$ is analytic\n",
    "- We can see that $G^{*}(\\mathbf r, \\mathbf r'; z) = G(\\mathbf r', \\mathbf r; z^{*})$\n",
    "- If $z=\\lambda$ where $\\lambda$ is in the continuous spectrum of $L$, then \n",
    "$G(\\mathbf r, \\mathbf r'; \\lambda)$ is not well defined, so we need\n",
    "  - $G^{+}(\\mathbf r,\\mathbf r'; \\lambda) = \\lim\\limits_{s\\rightarrow 0^+} G(\\mathbf r, \\mathbf r'; \\lambda+is)$\n",
    "  - $G^{-}(\\mathbf r,\\mathbf r'; \\lambda) = \\lim\\limits_{s\\rightarrow 0^+} G(\\mathbf r, \\mathbf r'; \\lambda-is)$"
   ]
  },
  {
   "cell_type": "markdown",
   "metadata": {},
   "source": [
    "- Using $z=\\lambda+is$, $G(z)$ is analytic everywhere, where $s\\neq 0$, and\n",
    " - $G(z)$ does not exist if $z=\\lambda_n$ where $\\lambda_n$ belongs to the discrete spectrum of $L$\n",
    " - $G(z)$ is not well defined if $z=\\lambda$ belongs to the continuous spectrum of $L$\n",
    " - We can use a very important theorem, the [Sokhotski–Plemelj theorem](https://en.wikipedia.org/wiki/Sokhotski–Plemelj_theorem):\n",
    " $$\n",
    " \\lim\\limits_{s\\rightarrow 0^+}\\frac{1}{x \\pm is} = \\mathcal P \\left(\\frac{1}{x}\\right) \\mp i\\pi\\delta(x)\n",
    " $$"
   ]
  },
  {
   "cell_type": "markdown",
   "metadata": {},
   "source": [
    "## Discontinuity\n",
    "Using this, let's calculate $G^+(\\lambda)$ and $G^-(\\lambda)$:\n",
    "$$\n",
    "\\begin{align*}\n",
    "G^+(\\lambda) &= \\lim\\limits_{s\\rightarrow 0^+}\\sum\\limits_n\\frac{|\\phi_n\\rangle\\langle\\phi_n|}{\\lambda-(\\lambda_n + is)} \n",
    "+ \\lim\\limits_{s\\rightarrow 0^+}\\int dc \\frac{|\\phi_c\\rangle\\langle\\phi_c|}{\\lambda-(\\lambda_c + is)} \\\\\n",
    "&= \\sum\\limits_n |\\phi_n\\rangle\\langle\\phi_n| \\lim\\limits_{s\\rightarrow 0^+} \\frac{1}{\\lambda- \\lambda_n - is}\n",
    "+ \\int dc |\\phi_c\\rangle\\langle\\phi_c| \\lim\\limits_{s\\rightarrow 0^+} \\frac{1}{\\lambda-\\lambda_c - is} \\\\\n",
    "&= \\sum\\limits_n |\\phi_n\\rangle\\langle\\phi_n| \\left[ \\mathcal P\\left(\\frac{1}{\\lambda-\\lambda_n}\\right) + i\\pi\\delta(\\lambda-\\lambda_n) \\right]\n",
    "+ \\int dc |\\phi_c\\rangle\\langle\\phi_c| \\left[ \\mathcal P\\left(\\frac{1}{\\lambda-\\lambda_c}\\right) + i\\pi\\delta(\\lambda-\\lambda_c) \\right]\n",
    "\\end{align*}\n",
    "$$"
   ]
  },
  {
   "cell_type": "markdown",
   "metadata": {},
   "source": [
    "$$\n",
    "\\begin{align*}\n",
    "G^-(\\lambda) &= \\lim\\limits_{s\\rightarrow 0^+}\\sum\\limits_n\\frac{|\\phi_n\\rangle\\langle\\phi_n|}{\\lambda-(\\lambda_n - is)} \n",
    "+ \\lim\\limits_{s\\rightarrow 0^+}\\int dc \\frac{|\\phi_c\\rangle\\langle\\phi_c|}{\\lambda-(\\lambda_c - is)} \\\\\n",
    "&= \\sum\\limits_n |\\phi_n\\rangle\\langle\\phi_n| \\lim\\limits_{s\\rightarrow 0^+} \\frac{1}{\\lambda- \\lambda_n + is}\n",
    "+ \\int dc |\\phi_c\\rangle\\langle\\phi_c| \\lim\\limits_{s\\rightarrow 0^+} \\frac{1}{\\lambda- \\lambda_c + is} \\\\\n",
    "&= \\sum\\limits_n |\\phi_n\\rangle\\langle\\phi_n| \\left[ \\mathcal P\\left(\\frac{1}{\\lambda-\\lambda_n}\\right) - i\\pi\\delta(\\lambda-\\lambda_n) \\right]\n",
    "+ \\int dc |\\phi_c\\rangle\\langle\\phi_c| \\left[ \\mathcal P\\left(\\frac{1}{\\lambda-\\lambda_c}\\right) - i\\pi\\delta(\\lambda-\\lambda_c) \\right]\n",
    "\\end{align*}\n",
    "$$"
   ]
  },
  {
   "cell_type": "markdown",
   "metadata": {},
   "source": [
    "So, \n",
    "$$\n",
    "\\begin{align*}\n",
    "\\tilde G(\\lambda) &= G^+(\\lambda)-G^-(\\lambda) = -2\\pi i \\sum\\limits_n |\\phi_n\\rangle\\langle\\phi_n|\\delta(\\lambda-\\lambda_n)\n",
    "-2\\pi i \\int dc |\\phi_c\\rangle\\langle\\phi_c|\\delta(\\lambda-\\lambda_c) \\\\\n",
    "&= -2\\pi i \\delta(\\lambda-L)\n",
    "\\end{align*}\n",
    "$$\n",
    "and \n",
    "$$\n",
    "\\tilde G(\\mathbf r, \\mathbf r';\\lambda) = \\langle \\mathbf r | \\tilde G(\\lambda) |\\mathbf r' \\rangle = -2\\pi i \\sum\\limits_n\\delta(\\lambda-\\lambda_n)\\phi_n(\\mathbf r)\\phi^{*}_n(\\mathbf r') - 2\\pi i \\int dc \\delta(\\lambda-\\lambda_c)\\phi_c(\\mathbf r)\\phi^{*}_c(\\mathbf r')\n",
    "$$\n",
    "The value $\\tilde G(\\lambda)$ is called the <i>discontinuity</i> of $G$."
   ]
  },
  {
   "cell_type": "markdown",
   "metadata": {},
   "source": [
    "## Density of states\n",
    "- The density of states is given by\n",
    "$$\n",
    "\\mathcal N(\\lambda) = \\sum\\limits_n\\delta(\\lambda-\\lambda_n) + \\int dc \\delta(\\lambda-\\lambda_c)\n",
    "$$\n",
    "This can be calculated by tracing the discontinuity:\n",
    "$$\n",
    "\\mathcal N(\\lambda) = -\\frac{1}{2\\pi i} \\int d^3\\mathbf r\\tilde G(\\mathbf r, \\mathbf r;\\lambda) = \n",
    "\\sum\\limits_n\\delta(\\lambda-\\lambda_n) + \\int dc \\delta(\\lambda-\\lambda_c)\n",
    "$$\n",
    "We can define the density of states per unit volume,\n",
    "$$\n",
    "\\rho(\\mathbf r; \\lambda) = -\\frac{1}{2\\pi i}\\tilde G(\\mathbf r, r; \\lambda).\n",
    "$$"
   ]
  },
  {
   "cell_type": "markdown",
   "metadata": {},
   "source": []
  },
  {
   "cell_type": "markdown",
   "metadata": {},
   "source": [
    "## Example 1.\n",
    "- $L(\\mathbf r) = -\\nabla_{\\mathbf r}^2$\n",
    "- $L(\\mathbf r)|\\mathbf k \\rangle = \\lambda_{\\mathbf k}|\\mathbf k \\rangle$\n",
    "- $\\implies \\langle \\mathbf r | \\mathbf k \\rangle = \\frac{1}{\\sqrt{\\Omega}}e^{i\\mathbf{kr}}$\n",
    "- $\\lambda_{\\mathbf k} = k^2$"
   ]
  },
  {
   "cell_type": "markdown",
   "metadata": {},
   "source": [
    " - $$(z+\\nabla_{\\mathbf r}^2)G(\\mathbf r, \\mathbf r'; z) = \\delta(\\mathbf r-\\mathbf r')$$\n",
    " - $$G(z) = \\sum\\limits_{\\mathbf k}\\frac{|\\mathbf k \\rangle\\langle\\mathbf k |}{z-k^2}$$\n",
    " - $$G(\\mathbf r, \\mathbf r'; z) = \\int_{\\Omega}\\frac{d^d\\mathbf k}{(2\\pi)^d}\n",
    " \\frac{\\langle \\mathbf r | \\mathbf k \\rangle\\langle\\mathbf k |\\mathbf r'\\rangle}{z-k^2}$$\n",
    "$$ = \\int_{\\Omega}\\frac{d^d\\mathbf k}{(2\\pi)^d} \\frac{e^{i\\mathbf k(\\mathbf r-\\mathbf r')}}{z-k^2}$$"
   ]
  },
  {
   "cell_type": "markdown",
   "metadata": {},
   "source": [
    "- set $d=3$:\n",
    "$$G(\\mathbf r, \\mathbf r'; z) = \\int_{\\Omega}\\frac{d^3\\mathbf k}{(2\\pi)^3} \\frac{e^{i\\mathbf k(\\mathbf r-\\mathbf r')}}{z-k^2} $$"
   ]
  },
  {
   "cell_type": "markdown",
   "metadata": {},
   "source": [
    "Transform the varibles $(k_x, k_y, k_z)$ to $(k, \\theta, \\varphi)$ using the [rules from wikipedia](https://en.wikipedia.org/wiki/Orthogonal_coordinates#Vector_calculus)."
   ]
  },
  {
   "cell_type": "markdown",
   "metadata": {},
   "source": [
    "So, $d^3\\mathbf k = dk_xdk_ydk_z = k^2\\sin\\theta \\cdot dk d\\theta d\\varphi$,\n",
    "and therefore, \n",
    "$$\n",
    "G(\\mathbf r, \\mathbf r'; z) = \\frac{1}{(2\\pi)^3}\\int\\limits_{0}^{\\infty}dk\\int\\limits_{0}^{\\pi}d\\theta\n",
    "\\int\\limits_{0}^{2\\pi}d\\varphi \\frac{k^2\\sin\\theta e^{ik\\rho\\cos\\theta}}{z-k^2},\n",
    "$$\n",
    "where $\\mathbf\\rho=\\mathbf r-\\mathbf r'$.\n",
    "$$G(\\mathbf r, \\mathbf r'; z) = \\frac{1}{4\\pi^2i\\rho}\\int\\limits_{0}^{\\infty}dk \\frac{k(e^{ik\\rho}-e^{-ik\\rho})}{z-k^2}$$\n",
    "This integral can be calculated using the residue theorem."
   ]
  },
  {
   "cell_type": "markdown",
   "metadata": {},
   "source": [
    "# Time-dependent Green's functions"
   ]
  },
  {
   "cell_type": "markdown",
   "metadata": {},
   "source": [
    "## First order in time\n",
    "Definition:\n",
    "$$\n",
    "\\left[\\frac{i}{c}\\frac{\\partial}{\\partial t} - L(r)\\right]g(\\mathbf r, \\mathbf r';t,t') = \n",
    "\\delta(\\mathbf r-\\mathbf r')\\delta(t-t')\n",
    "$$\n",
    "Properties:\n",
    "- $g$ is a function of the time difference $\\tau=t-t'$\n",
    "- The Fourier-transform of $g(\\mathbf r, \\mathbf r';\\tau)$ with respect to $\\tau$, $g(\\mathbf r, \\mathbf r';\\omega)$ is directly related to the time-independent Green's function $G$:\n",
    "$$\n",
    "g(\\mathbf r, \\mathbf r';\\omega) = G(\\mathbf r, \\mathbf r';\\omega/c) = \\langle \\mathbf r | (\\frac{\\omega}{c} -L)^{-1}|\\mathbf r'\\rangle\n",
    "$$\n",
    "- If $\\omega$ is real, $G(\\omega/c)$ may not be well defined, so we have to use\n",
    "$$\n",
    "g^{\\pm}(\\tau) = \\int\\limits_{-\\infty}^{\\infty}\\frac{d\\omega'}{2\\pi}e^{-i\\omega'\\tau}G^{\\pm}\\left(\\frac{\\omega'}{c}\\right)\n",
    "$$\n",
    "More info in the Book: Green's Functions in Quantum Physics by Eleftherios N. Economou"
   ]
  },
  {
   "cell_type": "code",
   "execution_count": null,
   "metadata": {},
   "outputs": [],
   "source": []
  }
 ],
 "metadata": {
  "kernelspec": {
   "display_name": "Python 3",
   "language": "python",
   "name": "python3"
  },
  "language_info": {
   "codemirror_mode": {
    "name": "ipython",
    "version": 3
   },
   "file_extension": ".py",
   "mimetype": "text/x-python",
   "name": "python",
   "nbconvert_exporter": "python",
   "pygments_lexer": "ipython3",
   "version": "3.6.8"
  }
 },
 "nbformat": 4,
 "nbformat_minor": 2
}
