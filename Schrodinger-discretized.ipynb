{
 "cells": [
  {
   "cell_type": "markdown",
   "metadata": {},
   "source": [
    "# 1D négyszög potenciál véges differencia sémával"
   ]
  },
  {
   "cell_type": "markdown",
   "metadata": {},
   "source": [
    "Oldjuk meg numerikusan az 1D Schrödinger egyenlet sajátérték-problémáját ismert $V(x)$\n",
    "potenciál esetén:\n",
    "$$\n",
    "\\begin{equation*}\n",
    "    \\hat H \\psi = E\\psi \\\\\n",
    "    \\left[\\frac{-\\hbar^2}{2m}\\partial_x^2 + V(x)\\right]\\psi(x) = E\\psi(x)\n",
    "\\end{equation*}\n",
    "$$\n",
    "\n",
    "$$\n",
    "\\begin{equation*}\n",
    "    V(x) = \\begin{cases}\n",
    "             -V_0, &\\quad\\text{ha} \\, x \\in [-\\frac{a}{2}, \\frac{a}{2}] \\\\\n",
    "                0, &\\quad\\text{különben}\n",
    "           \\end{cases}\n",
    "\\end{equation*}\n",
    "$$\n",
    "\n",
    "Tegyük fel, hogy $x\\in [-\\frac{A}{2}, \\frac{A}{2}]$, úgy, hogy $a<A$. Továbbá ki kell kötni, hogy $\\psi(-A/2)=\\psi(A/2)=0$.\n",
    "A problémát numerikusan véges differencia módszerrel oldjuk meg, ehhez diszkretizálni kell a Schrödinger-egyenletet. Osszuk fel a $[-\\frac{A}{2}, \\frac{A}{2}]$ tartományt $N$ részre,\n",
    "úgy, hogy\n",
    "$$x_0 = - \\frac{A}{2}\\\\\n",
    "x_N = \\frac{A}{2}\\\\\n",
    "x_j = x_0 + jb = x_0 + j\\frac{A}{N}\\\\\n",
    "\\psi_j = \\psi(x_j)\\\\\n",
    "V_j = V(x_j)\n",
    "$$\n",
    "A véges differencia módszer lényege, hogy a deriváltakat véges különbségekkel közelítjük, ehhez az alábbi összefüggéseket használjuk fel:\n",
    "$$\n",
    "\\begin{equation*}\n",
    "f'(x) = \\frac{f(x+b)-f(x)}{b}\\\\\n",
    "f''(x) = \\frac{\\frac{f(x+b)-f(x)}{b} - \\frac{f(x)-f(x-b)}{b}}{b} =\n",
    "\\frac{f(x+b) - 2f(x) + f(x-b)}{b^2}\n",
    "\\end{equation*}\n",
    "$$"
   ]
  },
  {
   "cell_type": "markdown",
   "metadata": {},
   "source": [
    "Ezt behelyettesítve a Schrödinger-egyenletet így írhatjuk:\n",
    "\n",
    "$$\n",
    "\\begin{equation*}\n",
    "\\frac{-\\hbar^2}{2m} \\frac{\\psi(x+b)-2\\psi(x) + \\psi(x-b)}{b^2} + V(x)\\psi(x) = E\\psi(x)\n",
    "\\end{equation*}\n",
    "$$"
   ]
  },
  {
   "cell_type": "markdown",
   "metadata": {},
   "source": [
    "Ennek az egyenletnek minden $x_j$ pontban teljesülnie kell, ezért felírhatjuk az alábbi \n",
    "lineáris egyenletrendszert:\n",
    "$$\n",
    "\\LARGE{\\vdots}\\\\\n",
    "\\begin{array}{cccccccccccc}\n",
    "... & + & \\left(V_{j-1}-2\\frac{-\\hbar^2}{2mb^2}\\right)\\psi_{j-1} & + & \\left(\\frac{-\\hbar^2}{2mb^2}\\right)\\psi_j & + & 0 & + & ... & = & E\\psi_{j-1} \\\\\n",
    "... & + & \\left(\\frac{-\\hbar^2}{2mb^2}\\right)\\psi_{j-1} & + & \\left(V_{j}-2\\frac{-\\hbar^2}{2mb^2}\\right)\\psi_{j} & + & \\left(\\frac{-\\hbar^2}{2mb^2}\\right)\\psi_{j+1} &+ & ... & = & E\\psi_{j} \\\\\n",
    "... & + & 0 & + & \\left(\\frac{-\\hbar^2}{2mb^2}\\right)\\psi_{j} & + & \\left(V_{j+1}-2\\frac{-\\hbar^2}{2mb^2}\\right)\\psi_{j+1} & + & ... & = & E\\psi_{j+1}\n",
    "\\end{array}\\\\\n",
    "\\LARGE{\\vdots}\n",
    "$$"
   ]
  },
  {
   "cell_type": "markdown",
   "metadata": {},
   "source": [
    "Ez alapján felírhatjuk a diszkretizált Hamilton-operátorát a rendszernek:\n",
    "\n",
    "$$\n",
    "\\hat H = \n",
    "\\frac{-\\hbar^2}{2mb^2}\n",
    "\\begin{bmatrix}\n",
    "\\ddots &    &    &    &    \\\\\n",
    "       & -2 & 1  &  0 &    \\\\\n",
    "       &  1 & -2 &  1 &    \\\\ \n",
    "       &  0 & 1  & -2 &    \\\\\n",
    "       &    &    &    & \\ddots\n",
    "\\end{bmatrix}\n",
    "+\n",
    "\\begin{bmatrix}\n",
    "\\ddots &       &    &        &    \\\\\n",
    "       &V_{j-1}& 0   & 0     &    \\\\\n",
    "       &  0    &V_{j}& 0     &    \\\\ \n",
    "       &  0    & 0   &V_{j+1}&    \\\\\n",
    "       &       &     &       & \\ddots\n",
    "\\end{bmatrix}\n",
    "$$\n",
    "\n",
    "$$\n",
    "\\begin{equation*}\n",
    "\\hat H \\begin{bmatrix}\n",
    "\\vdots\\\\\n",
    "\\psi_{j-1}\\\\\n",
    "\\psi_j\\\\\n",
    "\\psi_{j+1}\\\\\n",
    "\\vdots\\\\\n",
    "\\end{bmatrix}\n",
    "= E \\begin{bmatrix}\n",
    "\\vdots\\\\\n",
    "\\psi_{j-1}\\\\\n",
    "\\psi_j\\\\\n",
    "\\psi_{j+1}\\\\\n",
    "\\vdots\\\\\n",
    "\\end{bmatrix}\n",
    "\\end{equation*}\n",
    "$$"
   ]
  },
  {
   "cell_type": "code",
   "execution_count": 1,
   "metadata": {},
   "outputs": [],
   "source": [
    "import numpy as np\n",
    "from matplotlib import pyplot as plt\n",
    "from scipy.linalg import eigh, eigvalsh_tridiagonal\n",
    "\n",
    "hbar = 1.0\n",
    "m = 1.0\n",
    "\n",
    "Xmax = 10.0 # Maximum of X range\n",
    "nstep = 2560 # number of steps\n",
    "x = np.linspace(0, Xmax, nstep)\n",
    "b = x[1]-x[0]\n",
    "\n",
    "Mdd = 1./(b*b)*(np.diag(np.ones(nstep-1),-1) - 2*np.diag(np.ones(nstep),0) + np.diag(np.ones(nstep-1),+1))"
   ]
  },
  {
   "cell_type": "markdown",
   "metadata": {},
   "source": [
    "# Szabad elektron"
   ]
  },
  {
   "cell_type": "code",
   "execution_count": 7,
   "metadata": {},
   "outputs": [
    {
     "data": {
      "text/plain": [
       "<matplotlib.legend.Legend at 0x7fa6192d09b0>"
      ]
     },
     "execution_count": 7,
     "metadata": {},
     "output_type": "execute_result"
    },
    {
     "data": {
      "image/png": "[encoded data removed]",
      "text/plain": [
       "<Figure size 896x448 with 1 Axes>"
      ]
     },
     "metadata": {
      "needs_background": "dark"
     },
     "output_type": "display_data"
    }
   ],
   "source": [
    "H0 = -hbar**2/(2.0*m)*Mdd\n",
    "\n",
    "w, v = eigh(H0)\n",
    "psi = np.transpose(v)[0]\n",
    "plt.figure(figsize=(8,4), dpi=112)\n",
    "plt.plot(x, psi**2, label=\"non-periodc bc\")\n",
    "\n",
    "Hp = np.copy(H0)\n",
    "Hp[Hp.shape[0]-1, 0]=1\n",
    "Hp[0, Hp.shape[1]-1]=1\n",
    "\n",
    "wp, vp = eigh(Hp)\n",
    "psip = np.transpose(vp)[0]\n",
    "plt.plot(x, psip**2, ':', label=\"periodic bc\")\n",
    "plt.legend()"
   ]
  },
  {
   "cell_type": "code",
   "execution_count": 3,
   "metadata": {},
   "outputs": [],
   "source": [
    "from scipy.integrate import solve_bvp\n",
    "\n",
    "def fun(x, y, p):\n",
    "    E = p[0]\n",
    "    return np.vstack((y[1], -(2*m*E)/hbar**2*y[0]))\n",
    "\n",
    "def bc(ya, yb, p):\n",
    "    return np.array([ya[0], yb[0], ya[1] - 0.001])\n",
    "  \n",
    "yi = np.zeros((2, x.size))\n",
    "yi[0, 10:20] = 0.2\n",
    "\n",
    "sol = solve_bvp(\n",
    "    fun,\n",
    "    bc=bc,\n",
    "    x=x,\n",
    "    y=yi,\n",
    "    p = [0.5]\n",
    ")"
   ]
  },
  {
   "cell_type": "code",
   "execution_count": 4,
   "metadata": {
    "scrolled": false
   },
   "outputs": [
    {
     "data": {
      "text/plain": [
       "[<matplotlib.lines.Line2D at 0x7fa6193aaef0>]"
      ]
     },
     "execution_count": 4,
     "metadata": {},
     "output_type": "execute_result"
    },
    {
     "data": {
      "image/png": "[encoded data removed]",
      "text/plain": [
       "<Figure size 432x288 with 1 Axes>"
      ]
     },
     "metadata": {
      "needs_background": "dark"
     },
     "output_type": "display_data"
    }
   ],
   "source": [
    "plt.plot(x, sol.x)"
   ]
  },
  {
   "cell_type": "code",
   "execution_count": 5,
   "metadata": {},
   "outputs": [
    {
     "name": "stdout",
     "output_type": "stream",
     "text": [
      "Help on class BVPResult in module scipy.integrate._bvp:\n",
      "\n",
      "class BVPResult(scipy.optimize.optimize.OptimizeResult)\n",
      " |  Represents the optimization result.\n",
      " |  \n",
      " |  Attributes\n",
      " |  ----------\n",
      " |  x : ndarray\n",
      " |      The solution of the optimization.\n",
      " |  success : bool\n",
      " |      Whether or not the optimizer exited successfully.\n",
      " |  status : int\n",
      " |      Termination status of the optimizer. Its value depends on the\n",
      " |      underlying solver. Refer to `message` for details.\n",
      " |  message : str\n",
      " |      Description of the cause of the termination.\n",
      " |  fun, jac, hess: ndarray\n",
      " |      Values of objective function, its Jacobian and its Hessian (if\n",
      " |      available). The Hessians may be approximations, see the documentation\n",
      " |      of the function in question.\n",
      " |  hess_inv : object\n",
      " |      Inverse of the objective function's Hessian; may be an approximation.\n",
      " |      Not available for all solvers. The type of this attribute may be\n",
      " |      either np.ndarray or scipy.sparse.linalg.LinearOperator.\n",
      " |  nfev, njev, nhev : int\n",
      " |      Number of evaluations of the objective functions and of its\n",
      " |      Jacobian and Hessian.\n",
      " |  nit : int\n",
      " |      Number of iterations performed by the optimizer.\n",
      " |  maxcv : float\n",
      " |      The maximum constraint violation.\n",
      " |  \n",
      " |  Notes\n",
      " |  -----\n",
      " |  There may be additional attributes not listed above depending of the\n",
      " |  specific solver. Since this class is essentially a subclass of dict\n",
      " |  with attribute accessors, one can see which attributes are available\n",
      " |  using the `keys()` method.\n",
      " |  \n",
      " |  Method resolution order:\n",
      " |      BVPResult\n",
      " |      scipy.optimize.optimize.OptimizeResult\n",
      " |      builtins.dict\n",
      " |      builtins.object\n",
      " |  \n",
      " |  Methods inherited from scipy.optimize.optimize.OptimizeResult:\n",
      " |  \n",
      " |  __delattr__ = __delitem__(self, key, /)\n",
      " |  \n",
      " |  __dir__(self)\n",
      " |      __dir__() -> list\n",
      " |      default dir() implementation\n",
      " |  \n",
      " |  __getattr__(self, name)\n",
      " |  \n",
      " |  __repr__(self)\n",
      " |      Return repr(self).\n",
      " |  \n",
      " |  __setattr__ = __setitem__(self, key, value, /)\n",
      " |  \n",
      " |  ----------------------------------------------------------------------\n",
      " |  Data descriptors inherited from scipy.optimize.optimize.OptimizeResult:\n",
      " |  \n",
      " |  __dict__\n",
      " |      dictionary for instance variables (if defined)\n",
      " |  \n",
      " |  __weakref__\n",
      " |      list of weak references to the object (if defined)\n",
      " |  \n",
      " |  ----------------------------------------------------------------------\n",
      " |  Methods inherited from builtins.dict:\n",
      " |  \n",
      " |  __contains__(self, key, /)\n",
      " |      True if D has a key k, else False.\n",
      " |  \n",
      " |  __delitem__(self, key, /)\n",
      " |      Delete self[key].\n",
      " |  \n",
      " |  __eq__(self, value, /)\n",
      " |      Return self==value.\n",
      " |  \n",
      " |  __ge__(self, value, /)\n",
      " |      Return self>=value.\n",
      " |  \n",
      " |  __getattribute__(self, name, /)\n",
      " |      Return getattr(self, name).\n",
      " |  \n",
      " |  __getitem__(...)\n",
      " |      x.__getitem__(y) <==> x[y]\n",
      " |  \n",
      " |  __gt__(self, value, /)\n",
      " |      Return self>value.\n",
      " |  \n",
      " |  __init__(self, /, *args, **kwargs)\n",
      " |      Initialize self.  See help(type(self)) for accurate signature.\n",
      " |  \n",
      " |  __iter__(self, /)\n",
      " |      Implement iter(self).\n",
      " |  \n",
      " |  __le__(self, value, /)\n",
      " |      Return self<=value.\n",
      " |  \n",
      " |  __len__(self, /)\n",
      " |      Return len(self).\n",
      " |  \n",
      " |  __lt__(self, value, /)\n",
      " |      Return self<value.\n",
      " |  \n",
      " |  __ne__(self, value, /)\n",
      " |      Return self!=value.\n",
      " |  \n",
      " |  __new__(*args, **kwargs) from builtins.type\n",
      " |      Create and return a new object.  See help(type) for accurate signature.\n",
      " |  \n",
      " |  __setitem__(self, key, value, /)\n",
      " |      Set self[key] to value.\n",
      " |  \n",
      " |  __sizeof__(...)\n",
      " |      D.__sizeof__() -> size of D in memory, in bytes\n",
      " |  \n",
      " |  clear(...)\n",
      " |      D.clear() -> None.  Remove all items from D.\n",
      " |  \n",
      " |  copy(...)\n",
      " |      D.copy() -> a shallow copy of D\n",
      " |  \n",
      " |  fromkeys(iterable, value=None, /) from builtins.type\n",
      " |      Returns a new dict with keys from iterable and values equal to value.\n",
      " |  \n",
      " |  get(...)\n",
      " |      D.get(k[,d]) -> D[k] if k in D, else d.  d defaults to None.\n",
      " |  \n",
      " |  items(...)\n",
      " |      D.items() -> a set-like object providing a view on D's items\n",
      " |  \n",
      " |  keys(...)\n",
      " |      D.keys() -> a set-like object providing a view on D's keys\n",
      " |  \n",
      " |  pop(...)\n",
      " |      D.pop(k[,d]) -> v, remove specified key and return the corresponding value.\n",
      " |      If key is not found, d is returned if given, otherwise KeyError is raised\n",
      " |  \n",
      " |  popitem(...)\n",
      " |      D.popitem() -> (k, v), remove and return some (key, value) pair as a\n",
      " |      2-tuple; but raise KeyError if D is empty.\n",
      " |  \n",
      " |  setdefault(...)\n",
      " |      D.setdefault(k[,d]) -> D.get(k,d), also set D[k]=d if k not in D\n",
      " |  \n",
      " |  update(...)\n",
      " |      D.update([E, ]**F) -> None.  Update D from dict/iterable E and F.\n",
      " |      If E is present and has a .keys() method, then does:  for k in E: D[k] = E[k]\n",
      " |      If E is present and lacks a .keys() method, then does:  for k, v in E: D[k] = v\n",
      " |      In either case, this is followed by: for k in F:  D[k] = F[k]\n",
      " |  \n",
      " |  values(...)\n",
      " |      D.values() -> an object providing a view on D's values\n",
      " |  \n",
      " |  ----------------------------------------------------------------------\n",
      " |  Data and other attributes inherited from builtins.dict:\n",
      " |  \n",
      " |  __hash__ = None\n",
      "\n"
     ]
    }
   ],
   "source": [
    "import scipy\n",
    "help(scipy.integrate._bvp.BVPResult)"
   ]
  },
  {
   "cell_type": "code",
   "execution_count": 6,
   "metadata": {},
   "outputs": [
    {
     "ename": "NameError",
     "evalue": "name 'N' is not defined",
     "output_type": "error",
     "traceback": [
      "\u001b[0;31m---------------------------------------------------------------------------\u001b[0m",
      "\u001b[0;31mNameError\u001b[0m                                 Traceback (most recent call last)",
      "\u001b[0;32m<ipython-input-6-ce052a94a884>\u001b[0m in \u001b[0;36m<module>\u001b[0;34m\u001b[0m\n\u001b[1;32m     13\u001b[0m \u001b[0mVpot\u001b[0m \u001b[0;34m=\u001b[0m \u001b[0mnp\u001b[0m\u001b[0;34m.\u001b[0m\u001b[0mvectorize\u001b[0m\u001b[0;34m(\u001b[0m\u001b[0mVpot\u001b[0m\u001b[0;34m)\u001b[0m\u001b[0;34m\u001b[0m\u001b[0;34m\u001b[0m\u001b[0m\n\u001b[1;32m     14\u001b[0m \u001b[0;34m\u001b[0m\u001b[0m\n\u001b[0;32m---> 15\u001b[0;31m \u001b[0mx\u001b[0m \u001b[0;34m=\u001b[0m \u001b[0mnp\u001b[0m\u001b[0;34m.\u001b[0m\u001b[0mlinspace\u001b[0m\u001b[0;34m(\u001b[0m\u001b[0;34m-\u001b[0m\u001b[0mA\u001b[0m\u001b[0;34m/\u001b[0m\u001b[0;36m2.0\u001b[0m\u001b[0;34m,\u001b[0m \u001b[0mA\u001b[0m\u001b[0;34m/\u001b[0m\u001b[0;36m2.0\u001b[0m\u001b[0;34m,\u001b[0m \u001b[0mN\u001b[0m\u001b[0;34m)\u001b[0m\u001b[0;34m\u001b[0m\u001b[0;34m\u001b[0m\u001b[0m\n\u001b[0m\u001b[1;32m     16\u001b[0m \u001b[0mb\u001b[0m \u001b[0;34m=\u001b[0m \u001b[0mx\u001b[0m\u001b[0;34m[\u001b[0m\u001b[0;36m1\u001b[0m\u001b[0;34m]\u001b[0m\u001b[0;34m-\u001b[0m\u001b[0mx\u001b[0m\u001b[0;34m[\u001b[0m\u001b[0;36m0\u001b[0m\u001b[0;34m]\u001b[0m \u001b[0;31m# Step size\u001b[0m\u001b[0;34m\u001b[0m\u001b[0;34m\u001b[0m\u001b[0m\n\u001b[1;32m     17\u001b[0m \u001b[0;34m\u001b[0m\u001b[0m\n",
      "\u001b[0;31mNameError\u001b[0m: name 'N' is not defined"
     ]
    }
   ],
   "source": [
    "\n",
    "A = 20.0\n",
    "a = 3.0\n",
    "V0 = -0.50\n",
    "\n",
    "\n",
    "offset = 2.\n",
    "\n",
    "def Vpot(x):\n",
    "    if np.abs(x) <= a/2:\n",
    "      return V0\n",
    "    else: \n",
    "      return 0.0\n",
    "Vpot = np.vectorize(Vpot)\n",
    "\n",
    "x = np.linspace(-A/2.0, A/2.0, N)\n",
    "b = x[1]-x[0] # Step size\n",
    "\n",
    "Mdd = 1./(b*b)*(np.diag(np.ones(N-1),-1) - 2*np.diag(np.ones(N),0) + np.diag(np.ones(N-1),+1))\n",
    "H1 = -hbar**2/(2.*m)*Mdd + np.diag(Vpot(x-offset))\n",
    "H2 = -hbar**2/(2.*m)*Mdd + np.diag(Vpot(x+offset))"
   ]
  },
  {
   "cell_type": "code",
   "execution_count": 8,
   "metadata": {},
   "outputs": [
    {
     "ename": "NameError",
     "evalue": "name 'H1' is not defined",
     "output_type": "error",
     "traceback": [
      "\u001b[0;31m---------------------------------------------------------------------------\u001b[0m",
      "\u001b[0;31mNameError\u001b[0m                                 Traceback (most recent call last)",
      "\u001b[0;32m<ipython-input-8-44cdb40e11bd>\u001b[0m in \u001b[0;36m<module>\u001b[0;34m\u001b[0m\n\u001b[0;32m----> 1\u001b[0;31m \u001b[0mw1\u001b[0m\u001b[0;34m,\u001b[0m \u001b[0mv1\u001b[0m \u001b[0;34m=\u001b[0m \u001b[0mnp\u001b[0m\u001b[0;34m.\u001b[0m\u001b[0mlinalg\u001b[0m\u001b[0;34m.\u001b[0m\u001b[0meigh\u001b[0m\u001b[0;34m(\u001b[0m\u001b[0mH1\u001b[0m\u001b[0;34m)\u001b[0m \u001b[0;31m# vs are transposed !!!\u001b[0m\u001b[0;34m\u001b[0m\u001b[0;34m\u001b[0m\u001b[0m\n\u001b[0m\u001b[1;32m      2\u001b[0m \u001b[0mpsi1\u001b[0m \u001b[0;34m=\u001b[0m \u001b[0mnp\u001b[0m\u001b[0;34m.\u001b[0m\u001b[0mtranspose\u001b[0m\u001b[0;34m(\u001b[0m\u001b[0mv1\u001b[0m\u001b[0;34m)\u001b[0m\u001b[0;34m[\u001b[0m\u001b[0;36m0\u001b[0m\u001b[0;34m]\u001b[0m\u001b[0;34m\u001b[0m\u001b[0;34m\u001b[0m\u001b[0m\n\u001b[1;32m      3\u001b[0m \u001b[0mE1\u001b[0m \u001b[0;34m=\u001b[0m \u001b[0mw1\u001b[0m\u001b[0;34m[\u001b[0m\u001b[0;36m0\u001b[0m\u001b[0;34m]\u001b[0m\u001b[0;34m\u001b[0m\u001b[0;34m\u001b[0m\u001b[0m\n",
      "\u001b[0;31mNameError\u001b[0m: name 'H1' is not defined"
     ]
    }
   ],
   "source": [
    "w1, v1 = np.linalg.eigh(H1) # vs are transposed !!!\n",
    "psi1 = np.transpose(v1)[0]\n",
    "E1 = w1[0]"
   ]
  },
  {
   "cell_type": "code",
   "execution_count": null,
   "metadata": {},
   "outputs": [],
   "source": [
    "w2, v2 = np.linalg.eigh(H2) # vs are transposed !!!\n",
    "psi2 = np.transpose(v2)[0]\n",
    "E2 = w2[0]"
   ]
  },
  {
   "cell_type": "code",
   "execution_count": null,
   "metadata": {},
   "outputs": [],
   "source": [
    "plt.figure(figsize=(12,6))\n",
    "gamma = np.trapz(psi1*np.matmul(H1+H2,psi2))\n",
    "print(gamma)\n",
    "hopping = np.array([-gamma if np.abs(k) <= offset-a/2 else 0 for k in x])\n",
    "plt.plot(x, Vpot(x-offset), '--')\n",
    "plt.plot(x, Vpot(x+offset), '--')\n",
    "plt.plot(x, Vpot(x-offset)+Vpot(x+offset) + hopping)"
   ]
  },
  {
   "cell_type": "code",
   "execution_count": null,
   "metadata": {},
   "outputs": [],
   "source": [
    "H3 = 1./(b*b)*(np.diag(-gamma*np.ones(N-1),-1) - 2*np.diag(np.ones(N),0) + -gamma*np.diag(np.ones(N-1),+1))\n",
    "H3 = H3 + np.diag(Vpot(x-offset)) + np.diag(Vpot(x+offset))\n",
    "w3, v3 = np.linalg.eigh(H3) # vs are transposed !!!\n",
    "psi3 = np.transpose(v3)[0]\n",
    "E3 = w3[0]"
   ]
  },
  {
   "cell_type": "code",
   "execution_count": null,
   "metadata": {
    "scrolled": false
   },
   "outputs": [],
   "source": [
    "plt.figure(figsize=(8, 6), dpi=112)\n",
    "plt.plot(x, psi1**2, label=r\"$E_{1,0} = \" + str(round(E1,4)) + \"$\")\n",
    "plt.plot(x, psi2**2, label=r\"$E_{2,0} = \" + str(round(E2,4)) + \"$\")\n",
    "plt.plot(x, psi3**2, label=r\"$E_{3,0} = \" + str(round(E3,4)) + \"$\")\n",
    "plt.legend()\n",
    "#plt.twinx()\n",
    "#plt.plot(x, (Vpot(x-offset1)+Vpot(x-offset2))/(-2.*V0*a), color='gray')"
   ]
  },
  {
   "cell_type": "code",
   "execution_count": null,
   "metadata": {},
   "outputs": [],
   "source": [
    "print(np.trapz(psi1**2))\n",
    "print(np.trapz(psi2**2))\n",
    "print(np.trapz(psi3**2))"
   ]
  },
  {
   "cell_type": "code",
   "execution_count": null,
   "metadata": {},
   "outputs": [],
   "source": [
    "[k  if k <= 6 else 0 for k in list(range(10))]"
   ]
  },
  {
   "cell_type": "code",
   "execution_count": null,
   "metadata": {},
   "outputs": [],
   "source": [
    "np.trapz(psi1*np.matmul(H2, psi2))"
   ]
  },
  {
   "cell_type": "markdown",
   "metadata": {},
   "source": [
    "# Solving the same problem using the Green's function method"
   ]
  },
  {
   "cell_type": "markdown",
   "metadata": {},
   "source": [
    "A Schrödinger egyenlet megoldására egy másik módszer az úgynevezett Green-függvényes eljárás. \n",
    "A green függvény definíciója a következő:\n",
    "$$\n",
    "\\begin{equation*}\n",
    "\\left[z-L(r)\\right]G(r,r',z) = \\delta(r-r')\n",
    "\\end{equation*}\n",
    "$$\n",
    "ahol $L(r)$ egy időfüggetlen hermitikus operátor, $\\phi_n(r)$ sajátfüggvényekkel és $\\lambda_n$ sajátértékekkel: \n",
    "$$\n",
    "\\begin{equation*}\n",
    "L(r)\\phi_n(r) = \\lambda_n\\phi_n(r)\n",
    "\\end{equation*}\n",
    "$$"
   ]
  },
  {
   "cell_type": "code",
   "execution_count": null,
   "metadata": {},
   "outputs": [],
   "source": [
    "plt.plot(np.exp(1.j*x))"
   ]
  },
  {
   "cell_type": "code",
   "execution_count": null,
   "metadata": {},
   "outputs": [],
   "source": [
    "A = np.array([[0., -1.],[0., 0.]])\n",
    "u, s, vh = np.linalg.svd(A)"
   ]
  },
  {
   "cell_type": "code",
   "execution_count": null,
   "metadata": {},
   "outputs": [],
   "source": [
    "u"
   ]
  },
  {
   "cell_type": "code",
   "execution_count": null,
   "metadata": {},
   "outputs": [],
   "source": [
    "s"
   ]
  },
  {
   "cell_type": "code",
   "execution_count": null,
   "metadata": {},
   "outputs": [],
   "source": [
    "vh"
   ]
  },
  {
   "cell_type": "code",
   "execution_count": null,
   "metadata": {},
   "outputs": [],
   "source": [
    "np.matmul(np.matmul(u, np.diag(s)),vh)"
   ]
  },
  {
   "cell_type": "code",
   "execution_count": null,
   "metadata": {},
   "outputs": [],
   "source": []
  }
 ],
 "metadata": {
  "kernelspec": {
   "display_name": "Python 3",
   "language": "python",
   "name": "python3"
  },
  "language_info": {
   "codemirror_mode": {
    "name": "ipython",
    "version": 3
   },
   "file_extension": ".py",
   "mimetype": "text/x-python",
   "name": "python",
   "nbconvert_exporter": "python",
   "pygments_lexer": "ipython3",
   "version": "3.6.8"
  }
 },
 "nbformat": 4,
 "nbformat_minor": 2
}
