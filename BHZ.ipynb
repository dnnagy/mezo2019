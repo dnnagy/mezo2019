{
 "cells": [
  {
   "cell_type": "code",
   "execution_count": 1,
   "metadata": {},
   "outputs": [],
   "source": [
    "import mezo\n",
    "import matplotlib as mpl\n",
    "from matplotlib import pyplot as plt\n",
    "import numpy as np\n",
    "import scipy\n",
    "import scipy.sparse as ss\n",
    "from scipy.sparse import linalg as sl"
   ]
  },
  {
   "cell_type": "markdown",
   "metadata": {},
   "source": [
    "### Good Resources\n",
    "- [Notes by László Oroszlány](http://oroszl.web.elte.hu/mezo/OL_lecture_notes-1.pdf)\n",
    "- [Non Equilibrium Green’s Functions for Dummies](https://arxiv.org/pdf/cond-mat/0210519.pdf)\n",
    "- [Green’s Functions in Quantum Physics, E.N. Economou (Springer, 2005)]()\n",
    "- [Theory of Quantum Transport at Nanoscale, Dmitry A. Ryndyk Chapter 3. (Springer, 2016)]()"
   ]
  },
  {
   "cell_type": "markdown",
   "metadata": {},
   "source": [
    "## Task: BHZ model dirty edge local density\n",
    "The Hamiltonian is\n",
    "$$\n",
    "\\hat H_{BHZ} = \\begin{bmatrix}\n",
    "\\hat H_{QWZ} & 0 \\\\\n",
    "0 & \\hat H^{\\dagger}_{QWZ}\n",
    "\\end{bmatrix}.\n",
    "$$\n",
    "In QWZ, we have\n",
    "$$\n",
    "\\hat T_{x/y} = \\frac{\\hat\\sigma_z + i\\hat\\sigma_{x/y}}{2}, \\hat U = \\Delta\\hat\\sigma_z\n",
    "$$\n",
    "My tasks:\n",
    "- Calculate the site resolved local density of states for a BHZ wire with a scatterer located at the edge of the sample.\n",
    "- Take simple potetial scattering i.e. $V\\propto I_4$\n",
    "- Take completely random scatterer."
   ]
  },
  {
   "cell_type": "markdown",
   "metadata": {},
   "source": [
    "The on-site Hamiltonian for a single site is\n",
    "$$\n",
    "\\hat H_0 = \n",
    "\\begin{bmatrix}\n",
    "\\Delta\\sigma_z & 0 \\\\\n",
    "0 & \\Delta\\sigma_z\n",
    "\\end{bmatrix},\n",
    "$$\n",
    "the hopping elements are\n",
    "$$\n",
    "\\hat H_{1,x/y} = \n",
    "\\begin{bmatrix}\n",
    "T_{x/y} & 0 \\\\\n",
    "0 & T^{\\dagger}_{x/y}\n",
    "\\end{bmatrix}\n",
    "$$\n"
   ]
  },
  {
   "cell_type": "markdown",
   "metadata": {},
   "source": [
    "The Hamiltonian for one column of the scattering region is\n",
    "$$\n",
    "\\hat H_0^{\\mathrm{col}} = \n",
    "\\begin{bmatrix}\n",
    "\\ddots &                        &                         &                        &               & \\\\\n",
    "       & \\hat H_0               &  \\hat H_{1,y}           &                        &               & \\\\\n",
    "       & \\hat H^{\\dagger}_{1,y} &  \\hat H_0               & \\hat H_{1,y}           &               & \\\\\n",
    "       &                        &  \\hat H^{\\dagger}_{1,y} & \\hat H_0               & \\hat H_{1,y}  & \\\\\n",
    "       &                        &                         & \\hat H^{\\dagger}_{1,y} & \\hat H_0      & \\\\\n",
    "       &                        &                         &                        &               & \\ddots\n",
    "\\end{bmatrix}\n",
    "$$"
   ]
  },
  {
   "cell_type": "markdown",
   "metadata": {},
   "source": [
    "The Hamiltonian for the full scattering region is \n",
    "$$\n",
    "\\hat H^{S} = \n",
    "\\begin{bmatrix}\n",
    "\\ddots &                       &                       &                       &                       &\\\\\n",
    "       &\\hat H_0^{\\mathrm{col}}&\\hat H_{1,cc}          &                       &                       &\\\\\n",
    "       &\\hat H^{\\dagger}_{1,cc}&\\hat H_0^{\\mathrm{col}}&\\hat H_{1,cc}          &                       &\\\\\n",
    "       &                       &\\hat H^{\\dagger}_{1,cc}&\\hat H_0^{\\mathrm{col}}&\\hat H_{1,cc}          &\\\\\n",
    "       &                       &                       &\\hat H^{\\dagger}_{1,cc}&\\hat H_0^{\\mathrm{col}}&\\\\\n",
    "       &                       &                       &                       &                       &\\ddots\n",
    "\\end{bmatrix},\n",
    "$$\n",
    "where $\\hat H_{1,cc}$ denotes the column-to-column hopping matrix:\n",
    "$$\n",
    "\\hat H_{1,cc} =\n",
    "\\begin{bmatrix}\n",
    "\\ddots &            &            &            &            &\\\\\n",
    "       &\\hat H_{1,x}&            &            &            &\\\\\n",
    "       &            &\\hat H_{1,x}&            &            &\\\\\n",
    "       &            &            &\\hat H_{1,x}&            &\\\\\n",
    "       &            &            &            &\\hat H_{1,x}&\\\\\n",
    "       &            &            &            &            &\\ddots\n",
    "\\end{bmatrix}\n",
    "$$"
   ]
  },
  {
   "cell_type": "markdown",
   "metadata": {},
   "source": [
    "To calculate the surface Green's function for the scattering region only, we have to solve\n",
    "$$\n",
    "\\hat G^{S} = \\left(E\\hat I - \\hat H^S\\right)^{-1}\n",
    "$$"
   ]
  },
  {
   "cell_type": "markdown",
   "metadata": {},
   "source": [
    "The inverse of the Green function of the full system, including the leads is\n",
    "\n",
    "$$\n",
    "\\begin{align*}\n",
    "\\hat G^{-1} = \n",
    "\\begin{bmatrix}\n",
    "\\mathtt{L.gsL}            & -\\hat H_{1,cc}           &               \\\\\n",
    "-\\hat H_{1,cc}^{\\dagger } & \\hat H^S                 & -\\hat H_{1,cc} \\\\\n",
    "                          & -\\hat H_{1,cc}^{\\dagger} & \\mathtt{L.gsR}\n",
    "\\end{bmatrix}\n",
    "\\end{align*}\n",
    "$$"
   ]
  },
  {
   "cell_type": "markdown",
   "metadata": {},
   "source": [
    "The density of states is\n",
    "$$\n",
    "\\mathrm{DOS} = \\sum\\limits_{\\sigma}\\frac{1}{\\pi}\\mathrm{Im}\\{G(\\mathbf{r}, \\mathbf{r}, \\sigma, \\sigma)\\},\n",
    "$$\n",
    "where $\\sigma$ denotes the internal degrees of freedom."
   ]
  },
  {
   "cell_type": "code",
   "execution_count": 2,
   "metadata": {},
   "outputs": [],
   "source": [
    "s0 = np.array([[1., 0.], [0., 1.]])\n",
    "sx = np.array([[0., 1.], [1., 0.]]) \n",
    "sy = np.array([[0., -1.0j],[1.0j, 0.]])\n",
    "sz = np.array([[1., 0.], [0., -1.]])"
   ]
  },
  {
   "cell_type": "code",
   "execution_count": 3,
   "metadata": {},
   "outputs": [],
   "source": [
    "Ty = 0.5*(sz+1j*sy)\n",
    "Tx = 0.5*(sz+1j*sx)"
   ]
  },
  {
   "cell_type": "code",
   "execution_count": 4,
   "metadata": {},
   "outputs": [
    {
     "data": {
      "text/plain": [
       "array([[ 1.,  0.,  0.,  0.],\n",
       "       [ 0., -1.,  0.,  0.],\n",
       "       [ 0.,  0.,  1.,  0.],\n",
       "       [ 0.,  0.,  0., -1.]])"
      ]
     },
     "execution_count": 4,
     "metadata": {},
     "output_type": "execute_result"
    }
   ],
   "source": [
    "H0 = ss.kron(s0, sz)\n",
    "H0.toarray()"
   ]
  },
  {
   "cell_type": "code",
   "execution_count": 5,
   "metadata": {},
   "outputs": [
    {
     "data": {
      "text/plain": [
       "array([[ 0.5+0.j ,  0. +0.5j,  0. +0.j ,  0. +0.j ],\n",
       "       [ 0. +0.5j, -0.5+0.j ,  0. +0.j ,  0. +0.j ],\n",
       "       [ 0. +0.j ,  0. +0.j ,  0.5+0.j ,  0. -0.5j],\n",
       "       [ 0. +0.j ,  0. +0.j ,  0. -0.5j, -0.5+0.j ]])"
      ]
     },
     "execution_count": 5,
     "metadata": {},
     "output_type": "execute_result"
    }
   ],
   "source": [
    "H1x = ss.bmat([[Tx, None], \n",
    "               [None, Tx.T.conj()]])\n",
    "H1x.toarray()"
   ]
  },
  {
   "cell_type": "code",
   "execution_count": 6,
   "metadata": {},
   "outputs": [
    {
     "data": {
      "text/plain": [
       "array([[ 0.5+0.j,  0.5+0.j,  0. +0.j,  0. +0.j],\n",
       "       [-0.5+0.j, -0.5+0.j,  0. +0.j,  0. +0.j],\n",
       "       [ 0. +0.j,  0. +0.j,  0.5+0.j, -0.5+0.j],\n",
       "       [ 0. +0.j,  0. +0.j,  0.5+0.j, -0.5+0.j]])"
      ]
     },
     "execution_count": 6,
     "metadata": {},
     "output_type": "execute_result"
    }
   ],
   "source": [
    "H1y = ss.bmat([[Ty, None], \n",
    "               [None, Ty.T.conj()]])\n",
    "H1y.toarray()"
   ]
  },
  {
   "cell_type": "code",
   "execution_count": 8,
   "metadata": {},
   "outputs": [],
   "source": [
    "def get_H0_col(nrows, Delta):\n",
    "    \"\"\"\n",
    "    Calculate H_0^{\\mathrm{col}}\n",
    "    \"\"\"\n",
    "    H0col = ss.kron(np.eye(nrows), Delta*H0)\\\n",
    "    + ss.kron(np.diag(np.ones(nrows-1), 1), H1y)\\\n",
    "    + ss.kron(np.diag(np.ones(nrows-1), -1), H1y.T.conj())\n",
    "    return H0col\n",
    "\n",
    "def get_H1_cc(nrows):\n",
    "    return ss.kron(np.eye(nrows), H1x)\n",
    "\n",
    "def get_HS(nrows, ncols, Delta):\n",
    "    \"\"\"\n",
    "    Calculate the Hamiltonian for the scattering region, without dirty edge\n",
    "    \"\"\"\n",
    "    H0col = get_H0_col(nrows, Delta)\n",
    "    H1cc = get_H1_cc(nrows)\n",
    "    HS = ss.kron(np.eye(ncols), H0col)\\\n",
    "    + ss.kron(np.diag(np.ones(ncols-1), 1), H1cc)\\\n",
    "    + ss.kron(np.diag(np.ones(ncols-1), -1), H1cc.T.conj())\n",
    "    return HS\n",
    "\n",
    "def get_HS_dirty(nrows, ncols, Delta, nrowsdirty):\n",
    "    pass\n",
    "\n",
    "def get_HS_dirtier(nrows, ncols, Delta, nrowsdirty):\n",
    "    pass\n",
    "\n",
    "# def get_H1L_H1S(nrows):\n",
    "#     \"\"\"\n",
    "#     Calculate H_1^L and H_1^S\n",
    "#     \"\"\"\n",
    "#     return ss.kron(np.eye(nrows), Tx)\n",
    "\n",
    "# def get_H1LS(nrows, c=1):\n",
    "#     \"\"\"\n",
    "#     Calculate H_1^{LS}\n",
    "#     c -> coupling constant\n",
    "#     \"\"\"\n",
    "#     return ss.kron(np.eye(nrows), c*Tx)\n",
    "\n",
    "# def get_H0S(nrows, nrowsdirty, V):\n",
    "#     \"\"\"\n",
    "#     Calculate H_0^S.\n",
    "#     nrowsdirty -> How many rows should have noise\n",
    "#     V -> Noise scale\n",
    "#     \"\"\"\n",
    "#     H0 = ss.kron(np.eye(nrows), U*sz) + ss.kron(np.diag(np.ones(nrows-1), 1), Ty) + ss.kron(np.diag(np.ones(nrows-1), -1), Ty.T.conj())\n",
    "#     R1 = ss.kron(np.eye(nrowsdirty), V*s0)\n",
    "#     R2 = ss.kron(np.eye(nrows-nrowsdirty), s0)\n",
    "#     H0 = H0 + ss.bmat([[R2, None], [None, R1]])\n",
    "#     return H0\n",
    "\n",
    "# def build_qwz_system(nrows, ncols, nrowsdirty, V, c):\n",
    "#     # Create scattering region\n",
    "#     H0S = get_H0S(nrows, nrowsdirty, V)\n",
    "#     H1S = get_H1L_H1S(nrows)\n",
    "#     H1LS = get_H1LS(nrows, c)\n",
    "    \n",
    "#     # This is the purely scattering region, we need to attach the lead to this\n",
    "#     HScatter = ss.kron(np.eye(ncols-1), H0S)\\\n",
    "#     + ss.kron(np.diag(np.ones(ncols-2), 1), H1S)\\\n",
    "#     + ss.kron(np.diag(np.ones(ncols-2), -1), H1S.T.conj())\n",
    "    \n",
    "#     return H0S, H1S, H1LS, HScatter\n",
    "\n",
    "# def build_bhz_system(nrows, ncols, nrowsdirty, V, c):\n",
    "#     H0S, H1S, H1LS, H_QWZ = build_qwz_system(nrows, ncols, nrowsdirty, V, c)\n",
    "#     return H0S, H1S, H1LS, ss.bmat([[H_QWZ, None], \n",
    "#                                     [None, H_QWZ.T.conj()]])\n",
    "\n",
    "# # TODO: Get the Green function\n",
    "# def get_gf(nrows, ncols, nrowsdirty, V, c, E, alpha):\n",
    "#     # Create a system\n",
    "#     H0L = get_H0L(nrows).toarray()\n",
    "#     H1L = get_H1L_H1S(nrows).toarray()\n",
    "    \n",
    "#     # Create lead\n",
    "#     L = mezo.lead(H0L, H1L)\n",
    "#     L.set_ene(E)\n",
    "    \n",
    "#     # Create scattering region\n",
    "#     H0S, H1S, H1LS, H = build_bhz_system(nrows, ncols, nrowsdirty, V, c)\n",
    "#     Heff = E*ss.eye(m=H.shape[0], n=H.shape[1]) - H\n",
    "    \n",
    "#     return L, G, Heff"
   ]
  },
  {
   "cell_type": "code",
   "execution_count": 9,
   "metadata": {},
   "outputs": [
    {
     "data": {
      "text/plain": [
       "<matplotlib.image.AxesImage at 0x7f06d8cb22b0>"
      ]
     },
     "execution_count": 9,
     "metadata": {},
     "output_type": "execute_result"
    },
    {
     "data": {
      "image/png": "[encoded data removed]",
      "text/plain": [
       "<Figure size 432x288 with 1 Axes>"
      ]
     },
     "metadata": {
      "needs_background": "dark"
     },
     "output_type": "display_data"
    }
   ],
   "source": [
    "plt.spy( get_H0_col(nrows=12, Delta=2).toarray() )"
   ]
  },
  {
   "cell_type": "code",
   "execution_count": 10,
   "metadata": {
    "scrolled": true
   },
   "outputs": [
    {
     "data": {
      "text/plain": [
       "<matplotlib.image.AxesImage at 0x7f06d87f2828>"
      ]
     },
     "execution_count": 10,
     "metadata": {},
     "output_type": "execute_result"
    },
    {
     "data": {
      "image/png": "[encoded data removed]",
      "text/plain": [
       "<Figure size 432x288 with 1 Axes>"
      ]
     },
     "metadata": {
      "needs_background": "dark"
     },
     "output_type": "display_data"
    }
   ],
   "source": [
    "plt.spy( get_H1_cc(nrows=12).toarray() )"
   ]
  },
  {
   "cell_type": "code",
   "execution_count": 17,
   "metadata": {
    "scrolled": true
   },
   "outputs": [
    {
     "data": {
      "text/plain": [
       "<matplotlib.image.AxesImage at 0x7f06d74384a8>"
      ]
     },
     "execution_count": 17,
     "metadata": {},
     "output_type": "execute_result"
    },
    {
     "data": {
      "image/png": "[encoded data removed]",
      "text/plain": [
       "<Figure size 432x288 with 1 Axes>"
      ]
     },
     "metadata": {
      "needs_background": "dark"
     },
     "output_type": "display_data"
    }
   ],
   "source": [
    "HS = get_HS(12, 12, Delta=2)\n",
    "plt.spy( HS.toarray() )"
   ]
  },
  {
   "cell_type": "code",
   "execution_count": 18,
   "metadata": {},
   "outputs": [
    {
     "name": "stderr",
     "output_type": "stream",
     "text": [
      "/usr/local/lib/python3.6/site-packages/scipy/sparse/linalg/dsolve/linsolve.py:296: SparseEfficiencyWarning: splu requires CSC matrix format\n",
      "  warn('splu requires CSC matrix format', SparseEfficiencyWarning)\n",
      "/usr/local/lib/python3.6/site-packages/scipy/sparse/linalg/dsolve/linsolve.py:203: SparseEfficiencyWarning: spsolve is more efficient when sparse b is in the CSC matrix format\n",
      "  'is in the CSC matrix format', SparseEfficiencyWarning)\n"
     ]
    }
   ],
   "source": [
    "E = 1.0\n",
    "Heff = E*ss.eye(HS.shape[0]) - HS\n",
    "GS = sl.inv(Heff)"
   ]
  },
  {
   "cell_type": "code",
   "execution_count": 30,
   "metadata": {},
   "outputs": [
    {
     "data": {
      "text/plain": [
       "576"
      ]
     },
     "execution_count": 30,
     "metadata": {},
     "output_type": "execute_result"
    }
   ],
   "source": [
    "# Extract the system from G\n",
    "dof = 4 # we have 4 degrees of freedom on each site\n",
    "nrows = 12\n",
    "ncols = 12\n",
    "len( np.diag(np.imag(GS.toarray())) )"
   ]
  },
  {
   "cell_type": "code",
   "execution_count": null,
   "metadata": {},
   "outputs": [],
   "source": [
    "Z=0.1+0.0001j                # energy at which we evaluate the Green's function"
   ]
  },
  {
   "cell_type": "code",
   "execution_count": null,
   "metadata": {},
   "outputs": [],
   "source": [
    "H0S, H1S, H1LS, H_BHZ = build_bhz_system(nrows=5, ncols=5, nrowsdirty=2, V=4.0, c=1)"
   ]
  },
  {
   "cell_type": "code",
   "execution_count": null,
   "metadata": {},
   "outputs": [],
   "source": [
    "plt.spy(H1S)"
   ]
  },
  {
   "cell_type": "code",
   "execution_count": null,
   "metadata": {},
   "outputs": [],
   "source": [
    "plt.spy(H0S)"
   ]
  },
  {
   "cell_type": "code",
   "execution_count": null,
   "metadata": {
    "scrolled": true
   },
   "outputs": [],
   "source": [
    "plt.spy(H_BHZ)"
   ]
  },
  {
   "cell_type": "code",
   "execution_count": null,
   "metadata": {},
   "outputs": [],
   "source": [
    "ss.eye(m=H_BHZ.shape[0], n=H_BHZ.shape[1])"
   ]
  },
  {
   "cell_type": "code",
   "execution_count": null,
   "metadata": {},
   "outputs": [],
   "source": [
    "L, G, Heff = get_gf(nrows=10, ncols=10, nrowsdirty = 5, V=6, c=1, E=-1, alpha=1)"
   ]
  },
  {
   "cell_type": "code",
   "execution_count": null,
   "metadata": {},
   "outputs": [],
   "source": [
    "plt.spy(Heff)"
   ]
  },
  {
   "cell_type": "code",
   "execution_count": null,
   "metadata": {},
   "outputs": [],
   "source": [
    "plt.spy(sl.inv(Heff))"
   ]
  },
  {
   "cell_type": "code",
   "execution_count": null,
   "metadata": {},
   "outputs": [],
   "source": [
    "DOS = -1.j*(G - G.T.conj())\n",
    "np.max(np.abs(DOS))"
   ]
  },
  {
   "cell_type": "code",
   "execution_count": null,
   "metadata": {},
   "outputs": [],
   "source": [
    "plt.matshow(np.abs(L.gsL))"
   ]
  },
  {
   "cell_type": "code",
   "execution_count": null,
   "metadata": {},
   "outputs": [],
   "source": [
    "plt.matshow(np.abs(G))"
   ]
  },
  {
   "cell_type": "markdown",
   "metadata": {},
   "source": [
    "# Sandbox area"
   ]
  },
  {
   "cell_type": "code",
   "execution_count": null,
   "metadata": {},
   "outputs": [],
   "source": [
    "nA = 3\n",
    "nB = 2\n",
    "A = ss.kron(np.eye(nA), 7*sz)\n",
    "B = ss.kron(np.eye(nB), 2*sz)"
   ]
  },
  {
   "cell_type": "code",
   "execution_count": null,
   "metadata": {},
   "outputs": [],
   "source": [
    "H = ss.bmat([[A, None], [None, B]]).toarray()\n",
    "H"
   ]
  },
  {
   "cell_type": "code",
   "execution_count": null,
   "metadata": {},
   "outputs": [],
   "source": [
    "LS = np.zeros(shape=(nA+nB, nA+nB))\n",
    "LS[nA-1,nA]=1\n",
    "LS[nA,nA-1]=1\n",
    "LS = ss.kron(LS, 6*sx)\n",
    "LS.toarray()"
   ]
  },
  {
   "cell_type": "code",
   "execution_count": null,
   "metadata": {},
   "outputs": [],
   "source": [
    "(H+LS)"
   ]
  },
  {
   "cell_type": "code",
   "execution_count": null,
   "metadata": {},
   "outputs": [],
   "source": [
    "plt.spy(H+LS)"
   ]
  },
  {
   "cell_type": "code",
   "execution_count": null,
   "metadata": {},
   "outputs": [],
   "source": [
    "V = 6\n",
    "nrowsdirty = 2\n",
    "nrows=5\n",
    "R1 = ss.kron(np.eye(nrowsdirty), V*s0)\n",
    "R2 = ss.kron(np.eye(nrows-nrowsdirty), s0)\n",
    "ss.bmat([[R2, None], [None, R1]]).toarray()"
   ]
  },
  {
   "cell_type": "code",
   "execution_count": null,
   "metadata": {},
   "outputs": [],
   "source": [
    "A = B = 2"
   ]
  },
  {
   "cell_type": "code",
   "execution_count": null,
   "metadata": {},
   "outputs": [],
   "source": [
    "def getA():\n",
    "    A = 3\\\n",
    "    + 3\\\n",
    "    + 2\n",
    "    return A"
   ]
  },
  {
   "cell_type": "code",
   "execution_count": null,
   "metadata": {},
   "outputs": [],
   "source": [
    "getA()"
   ]
  },
  {
   "cell_type": "code",
   "execution_count": null,
   "metadata": {},
   "outputs": [],
   "source": []
  }
 ],
 "metadata": {
  "kernelspec": {
   "display_name": "Python 3",
   "language": "python",
   "name": "python3"
  },
  "language_info": {
   "codemirror_mode": {
    "name": "ipython",
    "version": 3
   },
   "file_extension": ".py",
   "mimetype": "text/x-python",
   "name": "python",
   "nbconvert_exporter": "python",
   "pygments_lexer": "ipython3",
   "version": "3.6.8"
  }
 },
 "nbformat": 4,
 "nbformat_minor": 2
}
