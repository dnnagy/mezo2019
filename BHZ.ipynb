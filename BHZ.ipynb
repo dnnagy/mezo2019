{
 "cells": [
  {
   "cell_type": "code",
   "execution_count": 1,
   "metadata": {},
   "outputs": [],
   "source": [
    "import mezo\n",
    "import matplotlib as mpl\n",
    "from matplotlib import pyplot as plt\n",
    "from mpl_toolkits.mplot3d import Axes3D\n",
    "import numpy as np\n",
    "import scipy\n",
    "import scipy.sparse as ss\n",
    "from scipy.sparse import linalg as sl\n",
    "from ipywidgets import interact, interactive, fixed, interact_manual\n",
    "import ipywidgets as widgets"
   ]
  },
  {
   "cell_type": "markdown",
   "metadata": {},
   "source": [
    "### Good Resources\n",
    "- [Notes by László Oroszlány](http://oroszl.web.elte.hu/mezo/OL_lecture_notes-1.pdf)\n",
    "- [Non Equilibrium Green’s Functions for Dummies](https://arxiv.org/pdf/cond-mat/0210519.pdf)\n",
    "- [Green’s Functions in Quantum Physics, E.N. Economou (Springer, 2005)]()\n",
    "- [Theory of Quantum Transport at Nanoscale, Dmitry A. Ryndyk Chapter 3. (Springer, 2016)]()"
   ]
  },
  {
   "cell_type": "markdown",
   "metadata": {},
   "source": [
    "## Task: BHZ model dirty edge local density\n",
    "The Hamiltonian is\n",
    "$$\n",
    "\\hat H_{BHZ} = \\begin{bmatrix}\n",
    "\\hat H_{QWZ} & 0 \\\\\n",
    "0 & \\hat H^{\\dagger}_{QWZ}\n",
    "\\end{bmatrix}.\n",
    "$$\n",
    "In QWZ, we have\n",
    "$$\n",
    "\\hat T_{x/y} = \\frac{\\hat\\sigma_z + i\\hat\\sigma_{x/y}}{2}, \\hat U = \\Delta\\hat\\sigma_z\n",
    "$$\n",
    "My tasks:\n",
    "- Calculate the site resolved local density of states for a BHZ wire with a scatterer located at the edge of the sample.\n",
    "- Take simple potetial scattering i.e. $V\\propto I_4$\n",
    "- Take completely random scatterer."
   ]
  },
  {
   "cell_type": "markdown",
   "metadata": {},
   "source": [
    "The on-site Hamiltonian for a single site is\n",
    "$$\n",
    "\\hat H_0 = \n",
    "\\begin{bmatrix}\n",
    "\\Delta\\sigma_z & 0 \\\\\n",
    "0 & \\Delta\\sigma_z\n",
    "\\end{bmatrix},\n",
    "$$\n",
    "the hopping elements are\n",
    "$$\n",
    "\\hat H_{1,x/y} = \n",
    "\\begin{bmatrix}\n",
    "T_{x/y} & 0 \\\\\n",
    "0 & T^{\\dagger}_{x/y}\n",
    "\\end{bmatrix}\n",
    "$$\n"
   ]
  },
  {
   "cell_type": "markdown",
   "metadata": {},
   "source": [
    "The Hamiltonian for one column of the scattering region is\n",
    "$$\n",
    "\\hat H_0^{\\mathrm{col}} = \n",
    "\\begin{bmatrix}\n",
    "\\ddots &                        &                         &                        &               & \\\\\n",
    "       & \\hat H_0               &  \\hat H_{1,y}           &                        &               & \\\\\n",
    "       & \\hat H^{\\dagger}_{1,y} &  \\hat H_0               & \\hat H_{1,y}           &               & \\\\\n",
    "       &                        &  \\hat H^{\\dagger}_{1,y} & \\hat H_0               & \\hat H_{1,y}  & \\\\\n",
    "       &                        &                         & \\hat H^{\\dagger}_{1,y} & \\hat H_0      & \\\\\n",
    "       &                        &                         &                        &               & \\ddots\n",
    "\\end{bmatrix}\n",
    "$$"
   ]
  },
  {
   "cell_type": "markdown",
   "metadata": {},
   "source": [
    "The Hamiltonian for the full scattering region is \n",
    "$$\n",
    "\\hat H^{S} = \n",
    "\\begin{bmatrix}\n",
    "\\ddots &                       &                       &                       &                       &\\\\\n",
    "       &\\hat H_0^{\\mathrm{col}}&\\hat H_{1,cc}          &                       &                       &\\\\\n",
    "       &\\hat H^{\\dagger}_{1,cc}&\\hat H_0^{\\mathrm{col}}&\\hat H_{1,cc}          &                       &\\\\\n",
    "       &                       &\\hat H^{\\dagger}_{1,cc}&\\hat H_0^{\\mathrm{col}}&\\hat H_{1,cc}          &\\\\\n",
    "       &                       &                       &\\hat H^{\\dagger}_{1,cc}&\\hat H_0^{\\mathrm{col}}&\\\\\n",
    "       &                       &                       &                       &                       &\\ddots\n",
    "\\end{bmatrix},\n",
    "$$\n",
    "where $\\hat H_{1,cc}$ denotes the column-to-column hopping matrix:\n",
    "$$\n",
    "\\hat H_{1,cc} =\n",
    "\\begin{bmatrix}\n",
    "\\ddots &            &            &            &            &\\\\\n",
    "       &\\hat H_{1,x}&            &            &            &\\\\\n",
    "       &            &\\hat H_{1,x}&            &            &\\\\\n",
    "       &            &            &\\hat H_{1,x}&            &\\\\\n",
    "       &            &            &            &\\hat H_{1,x}&\\\\\n",
    "       &            &            &            &            &\\ddots\n",
    "\\end{bmatrix}\n",
    "$$"
   ]
  },
  {
   "cell_type": "markdown",
   "metadata": {},
   "source": [
    "To calculate the surface Green's function for the scattering region only, we have to solve\n",
    "$$\n",
    "\\hat G^{S} = \\left(E\\hat I - \\hat H^S\\right)^{-1}\n",
    "$$"
   ]
  },
  {
   "cell_type": "markdown",
   "metadata": {},
   "source": [
    "The inverse of the Green function of the full system, including the leads is\n",
    "\n",
    "$$\n",
    "\\begin{align*}\n",
    "\\hat G^{-1} = \n",
    "\\begin{bmatrix}\n",
    "\\mathtt{L.gsL}            & -\\hat H_{1,cc}           &               \\\\\n",
    "-\\hat H_{1,cc}^{\\dagger } & \\hat H^S                 & -\\hat H_{1,cc} \\\\\n",
    "                          & -\\hat H_{1,cc}^{\\dagger} & \\mathtt{L.gsR}\n",
    "\\end{bmatrix}\n",
    "\\end{align*}\n",
    "$$"
   ]
  },
  {
   "cell_type": "markdown",
   "metadata": {},
   "source": [
    "The density of states is\n",
    "$$\n",
    "\\mathrm{DOS} = \\sum\\limits_{\\sigma}\\frac{1}{\\pi}\\mathrm{Im}\\{G(\\mathbf{r}, \\mathbf{r}, \\sigma, \\sigma)\\},\n",
    "$$\n",
    "where $\\sigma$ denotes the internal degrees of freedom."
   ]
  },
  {
   "cell_type": "code",
   "execution_count": 2,
   "metadata": {},
   "outputs": [],
   "source": [
    "s0 = np.array([[1., 0.], [0., 1.]])\n",
    "sx = np.array([[0., 1.], [1., 0.]]) \n",
    "sy = np.array([[0., -1.0j], [1.0j, 0.]])\n",
    "sz = np.array([[1., 0.], [0., -1.]])\n",
    "\n",
    "Ty = 0.5*(sz+1j*sy)\n",
    "Tx = 0.5*(sz+1j*sx)\n",
    "\n",
    "# On-site Hamiltonian\n",
    "H0 = ss.kron(s0, sz)\n",
    "\n",
    "# x hopping\n",
    "H1x = ss.bmat([[Tx, None], \n",
    "               [None, Tx.T.conj()]])\n",
    "\n",
    "# y hopping\n",
    "H1y = ss.bmat([[Ty, None], \n",
    "               [None, Ty.T.conj()]])"
   ]
  },
  {
   "cell_type": "code",
   "execution_count": 3,
   "metadata": {},
   "outputs": [],
   "source": [
    "def get_H0_col(nrows, Delta):\n",
    "    \"\"\"\n",
    "    Calculate the Hamiltonian for a single column without random noise\n",
    "    \"\"\"\n",
    "    H0col = ss.kron(np.eye(nrows), Delta*H0)\\\n",
    "    + ss.kron(np.diag(np.ones(nrows-1), 1), H1y)\\\n",
    "    + ss.kron(np.diag(np.ones(nrows-1), -1), H1y.T.conj())\n",
    "    return H0col\n",
    "\n",
    "def get_H0_col_dirty(nrows, Delta, rows_dirty_from, rows_dirty_to, use_full_mtx, scale):\n",
    "    \"\"\"\n",
    "    Calculate the Hamiltonian for single column with noises\n",
    "    \"\"\"\n",
    "    H0col = ss.kron(np.eye(nrows), Delta*H0)\\\n",
    "    + ss.kron(np.diag(np.ones(nrows-1), 1), H1y)\\\n",
    "    + ss.kron(np.diag(np.ones(nrows-1), -1), H1y.T.conj())\\\n",
    "    + ss.block_diag([np.random.normal(loc=0.0, scale=scale, size=(4,4)) if use_full_mtx and rows_dirty_from<=k<rows_dirty_to\n",
    "                     else np.diag(np.random.normal(loc=0.0, scale=scale, size=4)) if rows_dirty_from<=k<rows_dirty_to\n",
    "                     else np.eye(4)\n",
    "                     for k in range(nrows)])\n",
    "    return H0col\n",
    "\n",
    "def get_H1_cc(nrows):\n",
    "    \"\"\"\n",
    "    Calculate the column-to-column Hamiltonian without noise factor\n",
    "    \"\"\"\n",
    "    return ss.kron(np.eye(nrows), H1x)\n",
    "\n",
    "def get_HS(nrows, ncols, Delta):\n",
    "    \"\"\"\n",
    "    Calculate the Hamiltonian for the scattering region, without noise\n",
    "    \"\"\"\n",
    "    H0col = get_H0_col(nrows, Delta)\n",
    "    H1cc = get_H1_cc(nrows)\n",
    "    HS = ss.kron(np.eye(ncols), H0col)\\\n",
    "    + ss.kron(np.diag(np.ones(ncols-1), 1), H1cc)\\\n",
    "    + ss.kron(np.diag(np.ones(ncols-1), -1), H1cc.T.conj())\n",
    "    return HS\n",
    "\n",
    "def get_HS_dirty(nrows, ncols, Delta, dirty_region, use_full_mtx, scale):\n",
    "    \"\"\"\n",
    "    Create a scattering region with a few dirty rows. These have an additional\n",
    "    on-site potential that is a random diagonal matrix.\n",
    "    \"\"\"\n",
    "    \n",
    "    # The dirty region is from the i0th row, j0th column to the i1st row to j1st column\n",
    "    i0, j0, i1, j1 = dirty_region\n",
    "    if i0>i1 or j0>j1:\n",
    "        raise ValueError(\"i0<i1 and j0<j1 condition not met!\")\n",
    "    \n",
    "    H0col_clean = get_H0_col(nrows, Delta)\n",
    "    \n",
    "    H1cc = get_H1_cc(nrows)\n",
    "    HS = ss.block_diag([get_H0_col_dirty(nrows, Delta, i0, i1, use_full_mtx, scale) if j0<=k<j1 else H0col_clean for k in range(ncols)])\\\n",
    "    + ss.kron(np.diag(np.ones(ncols-1), 1), H1cc)\\\n",
    "    + ss.kron(np.diag(np.ones(ncols-1), -1), H1cc.T.conj())\n",
    "    return HS"
   ]
  },
  {
   "cell_type": "code",
   "execution_count": 4,
   "metadata": {},
   "outputs": [],
   "source": [
    "def plot_system(HS, nrows, ncols):\n",
    "    diags = np.diag(np.abs(HS.toarray()))\n",
    "    diags_reduced = [] # Each entry in this array will be associated with a single site\n",
    "    it = iter(diags)\n",
    "    while True:\n",
    "        try:\n",
    "            diags_reduced.append( np.sum([next(it) for k in range(4)]) )\n",
    "        except StopIteration:\n",
    "            break\n",
    "    diags_reduced = np.array(diags_reduced)\n",
    "    \n",
    "    # Build the matrix that corresponds to the system of nrow, ncols shape\n",
    "    it = iter(diags_reduced)\n",
    "    sys = np.zeros(shape=(nrows, ncols))\n",
    "    for i in range(ncols):\n",
    "        for j in range(nrows):\n",
    "            sys[j,i] = next(it)\n",
    "\n",
    "    plt.figure(dpi=96)\n",
    "    plt.matshow( sys )\n",
    "    plt.colorbar()"
   ]
  },
  {
   "cell_type": "code",
   "execution_count": 5,
   "metadata": {
    "scrolled": true
   },
   "outputs": [
    {
     "data": {
      "text/plain": [
       "<matplotlib.lines.Line2D at 0x7f2f4e34f550>"
      ]
     },
     "execution_count": 5,
     "metadata": {},
     "output_type": "execute_result"
    },
    {
     "data": {
      "text/plain": [
       "<Figure size 576x384 with 0 Axes>"
      ]
     },
     "metadata": {},
     "output_type": "display_data"
    },
    {
     "data": {
      "image/png": "[encoded data removed]",
      "text/plain": [
       "<Figure size 432x288 with 2 Axes>"
      ]
     },
     "metadata": {
      "needs_background": "dark"
     },
     "output_type": "display_data"
    },
    {
     "data": {
      "image/png": "[encoded data removed]",
      "text/plain": [
       "<Figure size 672x448 with 1 Axes>"
      ]
     },
     "metadata": {
      "needs_background": "dark"
     },
     "output_type": "display_data"
    }
   ],
   "source": [
    "nrows = 40\n",
    "ncols = 60\n",
    "dirty_region = (0, 20, 10, 41)\n",
    "\n",
    "HS = get_HS_dirty(nrows=nrows, ncols=ncols, Delta=-2.0, dirty_region=dirty_region, use_full_mtx=False, scale=1.0)\n",
    "plot_system(HS, nrows=nrows, ncols=ncols)\n",
    "\n",
    "plt.figure(dpi=112)\n",
    "plt.spy(HS)"
   ]
  },
  {
   "cell_type": "code",
   "execution_count": null,
   "metadata": {
    "scrolled": false
   },
   "outputs": [
    {
     "data": {
      "application/vnd.jupyter.widget-view+json": {
       "model_id": "d3b13d2cf9e4465bbdb009c76dba952a",
       "version_major": 2,
       "version_minor": 0
      },
      "text/plain": [
       "interactive(children=(FloatSlider(value=-2.0, description='Delta', max=3.0, min=-3.0), FloatSlider(value=-0.7,…"
      ]
     },
     "metadata": {},
     "output_type": "display_data"
    }
   ],
   "source": [
    "nrows = 40\n",
    "ncols = 60\n",
    "dirty_region = (0, 20, 10, 41)\n",
    "\n",
    "def plot_scattering_region(Delta, E, random_scale):\n",
    "    #HS = get_HS(nrows, ncols, Delta=1.0)\n",
    "    HS = get_HS_dirty(nrows, ncols, Delta, dirty_region=dirty_region, use_full_mtx=True, scale=random_scale)\n",
    "    #plot_system(HS, nrows, ncols)\n",
    "\n",
    "    Heff = E*ss.eye(HS.shape[0]) - HS\n",
    "    Heff = Heff.tocsc() # CSC format improves efficiency\n",
    "\n",
    "    # Calculate the surface Greens function\n",
    "    print(\"Inverting Heff...\")\n",
    "    GS = sl.inv(Heff)\n",
    "    print(\"Successfully inverted Heff.\")\n",
    "\n",
    "    # Extract the system from G\n",
    "    dof = 4 # we have 4 degrees of freedom on each site\n",
    "    diags = np.diag(np.imag(GS.toarray())) # Each site corresponds to 4 diagonal elements\n",
    "    diags_reduced = [] # Each entry in this array will be associated with a single site\n",
    "    it = iter(diags)\n",
    "    while True:\n",
    "        try:\n",
    "            diags_reduced.append( np.sum([next(it) for k in range(dof)]) )\n",
    "        except StopIteration:\n",
    "            break\n",
    "    diags_reduced = np.array(diags_reduced)\n",
    "\n",
    "    # Build the matrix that corresponds to the system of nrow, ncols shape\n",
    "    it = iter(diags_reduced)\n",
    "    sys = np.zeros(shape=(nrows, ncols))\n",
    "    for i in range(ncols):\n",
    "        for j in range(nrows):\n",
    "            sys[j,i] = next(it)\n",
    "            \n",
    "    plt.figure(figsize=(12, 8), dpi=112)\n",
    "    plt.matshow( sys )\n",
    "    plt.colorbar();\n",
    "    plt.title(\"Delta = {}, E = {}, random_scale = {}\".format(Delta, E, random_scale))\n",
    "    \n",
    "interact(\n",
    "    plot_scattering_region,\n",
    "    Delta=widgets.FloatSlider(min=-3, max=3, step=0.1, value=-2),\n",
    "    E=widgets.FloatSlider(min=-3, max=3, step=0.1, value=-0.7),\n",
    "    random_scale=widgets.FloatSlider(min=0.0, max=3.0, step=0.1, value=0.25)\n",
    ")"
   ]
  },
  {
   "cell_type": "markdown",
   "metadata": {},
   "source": [
    "### Plot the spectra of $H(\\mathbf{k})$.\n",
    "\n",
    "$$\n",
    "\\begin{equation*}\n",
    "H(k_x, k_y) = \\hat H_0 + \\left[e^{ik_x}\\hat H_{1,x} + e^{ik_y}\\hat H_{1,y} + h.c.\\right] \\leftarrow\\textrm{4x4 hermitian matrix}\n",
    "\\end{equation*}\n",
    "$$"
   ]
  },
  {
   "cell_type": "code",
   "execution_count": null,
   "metadata": {},
   "outputs": [],
   "source": [
    "def H_k(kx, ky, Delta):\n",
    "    H_k = ss.bmat([[Delta*sz, None], [None, Delta*sz]])\\\n",
    "    + np.exp(1j*kx)*ss.bmat([[Tx, None], [None, Tx.T.conj()]])\\\n",
    "    + np.exp(1j*ky)*ss.bmat([[Ty, None], [None, Ty.T.conj()]])\\\n",
    "    + np.exp(-1j*kx)*ss.bmat([[Tx.T.conj(), None], [None, Tx]])\\\n",
    "    + np.exp(-1j*ky)*ss.bmat([[Ty.T.conj(), None], [None, Ty]])\n",
    "    return H_k\n",
    "\n",
    "def H_k_evs(kx, ky, Delta):\n",
    "    Hk = H_k(kx, ky, Delta)\n",
    "    evs, _ = sl.eigsh(Hk.toarray())\n",
    "    return np.array(evs)"
   ]
  },
  {
   "cell_type": "code",
   "execution_count": null,
   "metadata": {
    "scrolled": false
   },
   "outputs": [],
   "source": [
    "kxrange = np.linspace(-np.pi, np.pi, 40)\n",
    "kyrange = np.linspace(-np.pi, np.pi, 40)\n",
    "xs, ys = np.meshgrid(kxrange, kyrange)\n",
    "\n",
    "def f(x, y):\n",
    "    return H_k_evs(x, y, Delta=-2.0)\n",
    "f=np.vectorize(f, otypes=[np.ndarray])\n",
    "\n",
    "fig = plt.figure(figsize=(10,8), dpi=112)\n",
    "ax = fig.add_subplot(111, projection='3d')\n",
    "ax.set_xlabel(\"k_x\")\n",
    "ax.set_ylabel(\"k_y\")\n",
    "ax.set_zlabel(\"E\")\n",
    "\n",
    "bands = f(xs, ys)\n",
    "bands = np.array([[ [ev for ev in bands[i, j]] for j in range(bands.shape[1])] for i in range(bands.shape[0])])\n",
    "\n",
    "for j in range(bands.shape[-1]):\n",
    "    ax.plot_surface(xs, ys, bands[:,:,j], linewidth=0, antialiased=False, alpha=0.7, label=\"Band #{}\".format(j+1))"
   ]
  },
  {
   "cell_type": "markdown",
   "metadata": {},
   "source": [
    "##  Attach leads to the scattering region"
   ]
  },
  {
   "cell_type": "markdown",
   "metadata": {},
   "source": [
    "# Sandbox area"
   ]
  },
  {
   "cell_type": "code",
   "execution_count": null,
   "metadata": {},
   "outputs": [],
   "source": [
    "nA = 3\n",
    "nB = 2\n",
    "A = ss.kron(np.eye(nA), 7*sz)\n",
    "B = ss.kron(np.eye(nB), 2*sz)"
   ]
  },
  {
   "cell_type": "code",
   "execution_count": null,
   "metadata": {},
   "outputs": [],
   "source": [
    "H = ss.bmat([[A, None], [None, B]]).toarray()\n",
    "H"
   ]
  },
  {
   "cell_type": "code",
   "execution_count": null,
   "metadata": {},
   "outputs": [],
   "source": [
    "LS = np.zeros(shape=(nA+nB, nA+nB))\n",
    "LS[nA-1,nA]=1\n",
    "LS[nA,nA-1]=1\n",
    "LS = ss.kron(LS, 6*sx)\n",
    "LS.toarray()"
   ]
  },
  {
   "cell_type": "code",
   "execution_count": null,
   "metadata": {},
   "outputs": [],
   "source": [
    "(H+LS)"
   ]
  },
  {
   "cell_type": "code",
   "execution_count": null,
   "metadata": {},
   "outputs": [],
   "source": [
    "plt.spy(H+LS)"
   ]
  },
  {
   "cell_type": "code",
   "execution_count": null,
   "metadata": {},
   "outputs": [],
   "source": [
    "V = 6\n",
    "nrowsdirty = 2\n",
    "nrows=5\n",
    "R1 = ss.kron(np.eye(nrowsdirty), V*s0)\n",
    "R2 = ss.kron(np.eye(nrows-nrowsdirty), s0)\n",
    "ss.bmat([[R2, None], [None, R1]]).toarray()"
   ]
  },
  {
   "cell_type": "code",
   "execution_count": null,
   "metadata": {},
   "outputs": [],
   "source": [
    "A = B = 2"
   ]
  },
  {
   "cell_type": "code",
   "execution_count": null,
   "metadata": {},
   "outputs": [],
   "source": [
    "def getA():\n",
    "    A = 3\\\n",
    "    + 3\\\n",
    "    + 2\n",
    "    return A"
   ]
  },
  {
   "cell_type": "code",
   "execution_count": null,
   "metadata": {},
   "outputs": [],
   "source": [
    "getA()"
   ]
  },
  {
   "cell_type": "code",
   "execution_count": null,
   "metadata": {},
   "outputs": [],
   "source": [
    "def f(k):\n",
    "    s,b,x = k\n",
    "    print(s,b,x)\n",
    "f(k=(0,2,3))"
   ]
  },
  {
   "cell_type": "code",
   "execution_count": null,
   "metadata": {},
   "outputs": [],
   "source": [
    "dirty_region = (12, 10, 18, 27)\n",
    "A = np.zeros(shape=(50, 50))\n",
    "i0, j0, i1, j1 = dirty_region\n",
    "\n",
    "for row in range(i0, i1):\n",
    "    for col in range(j0, j1):\n",
    "        A[row, col] = 1.0\n",
    "        \n",
    "plt.matshow(A)"
   ]
  },
  {
   "cell_type": "code",
   "execution_count": null,
   "metadata": {},
   "outputs": [],
   "source": [
    "ss.block_diag([sz,1.2*sz]).toarray()"
   ]
  },
  {
   "cell_type": "code",
   "execution_count": null,
   "metadata": {},
   "outputs": [],
   "source": [
    "X = np.arange(5)\n",
    "Y = np.arange(5)\n",
    "X, Y = np.meshgrid(X, Y)\n",
    "def f(x, y):\n",
    "    return np.array([x*y*a for a in np.linspace(0.5, 2.0, 3)])\n",
    "f = np.vectorize(f, otypes=[np.ndarray])\n",
    "\n",
    "f(X, Y).shape\n",
    "\n",
    "A = f(X, Y)\n",
    "A = np.array([[ [ev for ev in A[i, j]] for j in range(A.shape[1])] for i in range(A.shape[0])])\n",
    "\n",
    "fig = plt.figure()\n",
    "ax = fig.add_subplot(111, projection='3d')\n",
    "\n",
    "ax.plot_surface(X, Y, A[:,:,0], linewidth=0, antialiased=False, alpha=0.75)\n",
    "ax.plot_surface(X, Y, A[:,:,1], linewidth=0, antialiased=False, alpha=0.75)\n",
    "ax.plot_surface(X, Y, A[:,:,2], linewidth=0, antialiased=False, alpha=0.75)"
   ]
  },
  {
   "cell_type": "code",
   "execution_count": null,
   "metadata": {},
   "outputs": [],
   "source": [
    "def f(x,y,z):\n",
    "    return x,y,z\n",
    "\n",
    "interact(f, x=(-1, 1, 0.1), y=3, z=4)"
   ]
  },
  {
   "cell_type": "code",
   "execution_count": null,
   "metadata": {},
   "outputs": [],
   "source": []
  }
 ],
 "metadata": {
  "kernelspec": {
   "display_name": "Python 3",
   "language": "python",
   "name": "python3"
  },
  "language_info": {
   "codemirror_mode": {
    "name": "ipython",
    "version": 3
   },
   "file_extension": ".py",
   "mimetype": "text/x-python",
   "name": "python",
   "nbconvert_exporter": "python",
   "pygments_lexer": "ipython3",
   "version": "3.6.8"
  }
 },
 "nbformat": 4,
 "nbformat_minor": 2
}
