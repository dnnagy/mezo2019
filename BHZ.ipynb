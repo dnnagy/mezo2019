{
 "cells": [
  {
   "cell_type": "code",
   "execution_count": 54,
   "metadata": {},
   "outputs": [],
   "source": [
    "import mezo\n",
    "import matplotlib as mpl\n",
    "from matplotlib import pyplot as plt\n",
    "import numpy as np\n",
    "import scipy.sparse as ss"
   ]
  },
  {
   "cell_type": "markdown",
   "metadata": {},
   "source": [
    "### Good Resources\n",
    "- [Notes by László Oroszlány](http://oroszl.web.elte.hu/mezo/OL_lecture_notes-1.pdf)\n",
    "- [Non Equilibrium Green’s Functions for Dummies](https://arxiv.org/pdf/cond-mat/0210519.pdf)\n",
    "- [Green’s Functions in Quantum Physics, E.N. Economou (Springer, 2005)]()\n",
    "- [Theory of Quantum Transport at Nanoscale, Dmitry A. Ryndyk Chapter 3. (Springer, 2016)]()"
   ]
  },
  {
   "cell_type": "markdown",
   "metadata": {},
   "source": [
    "## Task: BHZ model dirty edge local density\n",
    "The Hamiltonian is\n",
    "$$\n",
    "\\hat H_{BHZ} = \\begin{bmatrix}\n",
    "\\hat H_{QWZ} & 0 \\\\\n",
    "0 & \\hat H^{\\dagger}_{QWZ}\n",
    "\\end{bmatrix}.\n",
    "$$\n",
    "In QWZ, we have\n",
    "$$\n",
    "\\hat T_{x/y} = \\frac{\\hat\\sigma_z + \\hat\\sigma_{x/y}}{2}, \\hat U = \\Delta\\hat\\sigma_z\n",
    "$$\n",
    "My tasks:\n",
    "- Calculate the site resolved local density of states for a BHZ wire with a scatterer located at the edge of the sample.\n",
    "- Take simple potetial scattering i.e. $V\\propto I_4$\n",
    "- Take completely random scatterer."
   ]
  },
  {
   "cell_type": "markdown",
   "metadata": {},
   "source": [
    "The full Hamiltonian of the QWZ system is\n",
    "$$\n",
    "\\begin{align*}\n",
    "\\hat H_{QWZ} = \\begin{bmatrix}\n",
    "\\ddots &                 &                &                  &                 &        &      \\\\\n",
    "\\dots  &  H_0^L          & H_1^L          &                  &                 &        &\\dots \\\\\n",
    "\\dots  &  H_1^{L\\dagger} & H_0^L          &         H_1^L    &                 &        &\\dots \\\\\n",
    "\\dots  &                 & H_1^{L\\dagger} &         H_0^L    &  H_1^{LS}       &        &\\dots \\\\\n",
    "\\dots  &                 &                & H_1^{LS\\dagger}  &  H_0^S          & H_1^S  &\\dots \\\\\n",
    "\\dots  &                 &                &                  &  H_1^{S\\dagger} & H_0^S  &\\dots \\\\\n",
    "       &                 &                &                  &                 &        &\\ddots\n",
    "\\end{bmatrix}\n",
    "\\end{align*}\n",
    "$$"
   ]
  },
  {
   "cell_type": "markdown",
   "metadata": {},
   "source": [
    "$$\n",
    "\\hat H_0^L =\n",
    "\\begin{bmatrix}\n",
    "\\ddots &                    &                     &                    &               & \\\\\n",
    "       & U\\hat\\sigma_z      &  \\hat T_y           &                    &               & \\\\\n",
    "       & \\hat T^{\\dagger}_y &  U\\hat\\sigma_z      & \\hat T_y           &               & \\\\\n",
    "       &                    &  \\hat T^{\\dagger}_y & U\\hat\\sigma_z      & \\hat T_y      & \\\\\n",
    "       &                    &                     & \\hat T^{\\dagger}_y & U\\hat\\sigma_z & \\\\\n",
    "       &                    &                     &                    &               & \\ddots\n",
    "\\end{bmatrix}\n",
    "$$"
   ]
  },
  {
   "cell_type": "markdown",
   "metadata": {},
   "source": [
    "$$\n",
    "\\hat H_1^L = \\hat H_1^S = \n",
    "\\begin{bmatrix}\n",
    "\\ddots &          &          &          &          & \\\\\n",
    "       & \\hat T_x &          &          &          & \\\\\n",
    "       &          & \\hat T_x &          &          & \\\\\n",
    "       &          &          & \\hat T_x &          & \\\\\n",
    "       &          &          &          & \\hat T_x & \\\\\n",
    "       &          &          &          &          & \\ddots\n",
    "\\end{bmatrix}\n",
    "$$"
   ]
  },
  {
   "cell_type": "markdown",
   "metadata": {},
   "source": [
    "$$\n",
    "H^0_S =\n",
    "\\begin{bmatrix}\n",
    "\\ddots &                    &                     &                    &               & \\\\\n",
    "       & U\\hat\\sigma_z      &  \\hat T_y           &                    &               & \\\\\n",
    "       & \\hat T^{\\dagger}_y &  U\\hat\\sigma_z      & \\hat T_y           &               & \\\\\n",
    "       &                    &  \\hat T^{\\dagger}_y & U\\hat\\sigma_z      & \\hat T_y      & \\\\\n",
    "       &                    &                     & \\hat T^{\\dagger}_y & U\\hat\\sigma_z & \\\\\n",
    "       &                    &                     &                    &               & \\ddots\n",
    "\\end{bmatrix}\n",
    "+ \\hat R,\n",
    "$$\n",
    "where $\\hat R\\propto I_{2N}$ is a random matrix and $N$ is the number of rows in the lattice"
   ]
  },
  {
   "cell_type": "code",
   "execution_count": 56,
   "metadata": {},
   "outputs": [],
   "source": [
    "s0 = np.array([[1., 0.], [0., 1.]])\n",
    "sx = np.array([[0., 1.], [1., 0.]]) \n",
    "sy = np.array([[0., -1.0j],[1.0j, 0.]])\n",
    "sz = np.array([[1., 0.], [0., -1.]])"
   ]
  },
  {
   "cell_type": "code",
   "execution_count": 75,
   "metadata": {},
   "outputs": [],
   "source": [
    "Ty = 0.5*(sz+sy)\n",
    "Tx = 0.5*(sz+sx)\n",
    "U = -1"
   ]
  },
  {
   "cell_type": "code",
   "execution_count": 108,
   "metadata": {},
   "outputs": [],
   "source": [
    "# Size of the scattering region\n",
    "nrows = 5\n",
    "ncols = 5"
   ]
  },
  {
   "cell_type": "code",
   "execution_count": 113,
   "metadata": {},
   "outputs": [],
   "source": [
    "def get_H0L(nrows):\n",
    "    \"\"\"\n",
    "    Calculate H_0^L \n",
    "    \"\"\"\n",
    "    H0 = ss.kron(np.eye(nrows), U*sz) + ss.kron(np.diag(np.ones(nrows-1), 1), Ty) + ss.kron(np.diag(np.ones(nrows-1), -1), Ty.T.conj())\n",
    "    return H0\n",
    "\n",
    "def get_H1L_H1S(nrows):\n",
    "    \"\"\"\n",
    "    Calculate H_1^L and H_1^S\n",
    "    \"\"\"\n",
    "    return ss.kron(np.eye(nrows), Tx)\n",
    "\n",
    "def get_H1LS(nrows, c=1):\n",
    "    \"\"\"\n",
    "    Calculate H_1^{LS}\n",
    "    c -> coupling constant\n",
    "    \"\"\"\n",
    "    return ss.kron(np.eye(nrows), c*Tx)\n",
    "\n",
    "def get_H0S(nrows, nrowsdirty, V):\n",
    "    \"\"\"\n",
    "    Calculate H_0^S.\n",
    "    nrowsdirty -> How many rows should have noise\n",
    "    V -> Noise scale\n",
    "    \"\"\"\n",
    "    H0 = ss.kron(np.eye(nrows), U*sz) + ss.kron(np.diag(np.ones(nrows-1), 1), Ty) + ss.kron(np.diag(np.ones(nrows-1), -1), Ty.T.conj())\n",
    "    R1 = ss.kron(np.eye(nrowsdirty), V*s0)\n",
    "    R2 = ss.kron(np.eye(nrows-nrowsdirty), s0)\n",
    "    H0 = H0 + ss.bmat([[R2, None], [None, R1]])\n",
    "    return H0\n",
    "\n",
    "def build_qwz_system(nrows, ncols, nrowsdirty, V, c):\n",
    "    # Create scattering region\n",
    "    H0S = get_H0S(nrows, nrowsdirty, V)\n",
    "    H1S = get_H1L_H1S(nrows)\n",
    "    H1LS = get_H1LS(nrows, c)\n",
    "    \n",
    "    # This is the purely scattering region, we need to attach the lead to this\n",
    "    HScatter = ss.kron(np.eye(ncols-1), H0S)\\\n",
    "    + ss.kron(np.diag(np.ones(ncols-2), 1), H1S)\\\n",
    "    + ss.kron(np.diag(np.ones(ncols-2), -1), H1S.T.conj())\n",
    "    \n",
    "    return HScatter\n",
    "\n",
    "# TODO: Get the Green function\n",
    "def get_gf():\n",
    "    # TODO: Attach Lead\n",
    "    lead = mezo.lead(H0L, H1L,)"
   ]
  },
  {
   "cell_type": "markdown",
   "metadata": {},
   "source": [
    "# Sandbox area"
   ]
  },
  {
   "cell_type": "code",
   "execution_count": 93,
   "metadata": {},
   "outputs": [],
   "source": [
    "H = ss.kron(np.eye(2), U*sz)"
   ]
  },
  {
   "cell_type": "code",
   "execution_count": 94,
   "metadata": {},
   "outputs": [
    {
     "data": {
      "text/plain": [
       "array([[-1.,  0.,  0.,  0.],\n",
       "       [ 0.,  1.,  0.,  0.],\n",
       "       [ 0.,  0., -1.,  0.],\n",
       "       [ 0.,  0.,  0.,  1.]])"
      ]
     },
     "execution_count": 94,
     "metadata": {},
     "output_type": "execute_result"
    }
   ],
   "source": [
    "H.toarray()"
   ]
  },
  {
   "cell_type": "code",
   "execution_count": 101,
   "metadata": {},
   "outputs": [
    {
     "data": {
      "text/plain": [
       "array([[ 0.5,  0.5,  0. ,  0. ],\n",
       "       [ 0.5, -0.5,  0. ,  0. ],\n",
       "       [ 0. ,  0. ,  0.5,  0.5],\n",
       "       [ 0. ,  0. ,  0.5, -0.5]])"
      ]
     },
     "execution_count": 101,
     "metadata": {},
     "output_type": "execute_result"
    }
   ],
   "source": [
    "ss.kron(np.eye(2), Tx).toarray()"
   ]
  },
  {
   "cell_type": "code",
   "execution_count": 102,
   "metadata": {},
   "outputs": [
    {
     "data": {
      "text/plain": [
       "array([[ 0. ,  0. ,  0.5,  0.5,  0. ,  0. ],\n",
       "       [ 0. ,  0. ,  0.5, -0.5,  0. ,  0. ],\n",
       "       [ 0. ,  0. ,  0. ,  0. ,  0.5,  0.5],\n",
       "       [ 0. ,  0. ,  0. ,  0. ,  0.5, -0.5],\n",
       "       [ 0. ,  0. ,  0. ,  0. ,  0. ,  0. ],\n",
       "       [ 0. ,  0. ,  0. ,  0. ,  0. ,  0. ]])"
      ]
     },
     "execution_count": 102,
     "metadata": {},
     "output_type": "execute_result"
    }
   ],
   "source": [
    "ss.kron(np.diag(np.ones(2), 1), Tx).toarray()"
   ]
  },
  {
   "cell_type": "code",
   "execution_count": 103,
   "metadata": {},
   "outputs": [
    {
     "data": {
      "text/plain": [
       "(20, 20)"
      ]
     },
     "execution_count": 103,
     "metadata": {},
     "output_type": "execute_result"
    }
   ],
   "source": [
    "get_H0L(10).toarray().shape"
   ]
  },
  {
   "cell_type": "code",
   "execution_count": 104,
   "metadata": {},
   "outputs": [
    {
     "data": {
      "text/plain": [
       "array([[1., 0., 0., 0., 0., 0., 0., 0., 0., 0.],\n",
       "       [0., 1., 0., 0., 0., 0., 0., 0., 0., 0.],\n",
       "       [0., 0., 1., 0., 0., 0., 0., 0., 0., 0.],\n",
       "       [0., 0., 0., 1., 0., 0., 0., 0., 0., 0.],\n",
       "       [0., 0., 0., 0., 1., 0., 0., 0., 0., 0.],\n",
       "       [0., 0., 0., 0., 0., 1., 0., 0., 0., 0.],\n",
       "       [0., 0., 0., 0., 0., 0., 6., 0., 0., 0.],\n",
       "       [0., 0., 0., 0., 0., 0., 0., 6., 0., 0.],\n",
       "       [0., 0., 0., 0., 0., 0., 0., 0., 6., 0.],\n",
       "       [0., 0., 0., 0., 0., 0., 0., 0., 0., 6.]])"
      ]
     },
     "execution_count": 104,
     "metadata": {},
     "output_type": "execute_result"
    }
   ],
   "source": [
    "V = 6\n",
    "nrowsdirty = 2\n",
    "nrows=5\n",
    "R1 = ss.kron(np.eye(nrowsdirty), V*s0)\n",
    "R2 = ss.kron(np.eye(nrows-nrowsdirty), s0)\n",
    "ss.bmat([[R2, None], [None, R1]]).toarray()"
   ]
  },
  {
   "cell_type": "code",
   "execution_count": 105,
   "metadata": {},
   "outputs": [],
   "source": [
    "A = B = 2"
   ]
  },
  {
   "cell_type": "code",
   "execution_count": 110,
   "metadata": {},
   "outputs": [],
   "source": [
    "def getA():\n",
    "    A = 3\\\n",
    "    + 3\\\n",
    "    + 2\n",
    "    return A"
   ]
  },
  {
   "cell_type": "code",
   "execution_count": 111,
   "metadata": {},
   "outputs": [
    {
     "data": {
      "text/plain": [
       "8"
      ]
     },
     "execution_count": 111,
     "metadata": {},
     "output_type": "execute_result"
    }
   ],
   "source": [
    "getA()"
   ]
  },
  {
   "cell_type": "code",
   "execution_count": null,
   "metadata": {},
   "outputs": [],
   "source": []
  }
 ],
 "metadata": {
  "kernelspec": {
   "display_name": "Python 3",
   "language": "python",
   "name": "python3"
  },
  "language_info": {
   "codemirror_mode": {
    "name": "ipython",
    "version": 3
   },
   "file_extension": ".py",
   "mimetype": "text/x-python",
   "name": "python",
   "nbconvert_exporter": "python",
   "pygments_lexer": "ipython3",
   "version": "3.6.8"
  }
 },
 "nbformat": 4,
 "nbformat_minor": 2
}
